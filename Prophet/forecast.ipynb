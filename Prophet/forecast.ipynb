{
 "cells": [
  {
   "cell_type": "markdown",
   "metadata": {},
   "source": [
    "!pip install prophet"
   ]
  },
  {
   "cell_type": "markdown",
   "metadata": {},
   "source": [
    "!pip install plotly"
   ]
  },
  {
   "cell_type": "code",
   "execution_count": 83,
   "metadata": {},
   "outputs": [],
   "source": [
    "import pandas as pd\n",
    "import numpy as np\n",
    "import matplotlib.pyplot as plt\n",
    "from itertools import product\n",
    "from prophet import Prophet\n",
    "from sklearn.metrics import mean_absolute_error, mean_squared_error, r2_score"
   ]
  },
  {
   "cell_type": "code",
   "execution_count": 84,
   "metadata": {},
   "outputs": [],
   "source": [
    "# Load epidemic data\n",
    "df = pd.read_csv('../epidemic_curve.csv')\n",
    "df['date'] = pd.to_datetime(df['date'])\n",
    "df = df.sort_values('date').reset_index(drop=True)"
   ]
  },
  {
   "cell_type": "code",
   "execution_count": 85,
   "metadata": {},
   "outputs": [],
   "source": [
    "# Define cutoff date (2024-05-27)\n",
    "cutoff_date = pd.to_datetime('2024-05-27')\n",
    "train_df = df[df['date'] <= cutoff_date].copy()\n",
    "test_df = df[(df['date'] > cutoff_date)].head(4).copy()"
   ]
  },
  {
   "cell_type": "markdown",
   "metadata": {},
   "source": [
    "#### PREPARE DATA FOR PROPHET"
   ]
  },
  {
   "cell_type": "code",
   "execution_count": 86,
   "metadata": {},
   "outputs": [
    {
     "name": "stdout",
     "output_type": "stream",
     "text": [
      "\n",
      "Training: 22 weeks\n",
      "Test: 4 weeks\n",
      "Actual values: [1829, 1577, 1203, 947]\n"
     ]
    }
   ],
   "source": [
    "'''\n",
    "Prophet requires two specific column names:\n",
    "    --> 'ds' (datestamp): the date column\n",
    "    --> 'y' (value): the target variable\n",
    "'''\n",
    "\n",
    "prophet_train = train_df.rename(columns={'date': 'ds', 'cases': 'y'})\n",
    "y_test = test_df['cases'].values\n",
    "\n",
    "print(f\"\\nTraining: {len(train_df)} weeks\")\n",
    "print(f\"Test: {len(test_df)} weeks\")\n",
    "print(f\"Actual values: {y_test.tolist()}\")"
   ]
  },
  {
   "cell_type": "markdown",
   "metadata": {},
   "source": [
    "#### Try different HYPERPARAMETERS to TEST"
   ]
  },
  {
   "cell_type": "code",
   "execution_count": 87,
   "metadata": {},
   "outputs": [],
   "source": [
    "changepoint_scales = [0.05, 0.1, 0.5, 1.0]\n",
    "seasonality_modes = ['additive', 'multiplicative']\n",
    "add_monthly_seasonality = [True, False]\n",
    "fourier_orders = [3, 5, 8, 10]\n",
    "\n",
    "\n",
    "results = []"
   ]
  },
  {
   "cell_type": "code",
   "execution_count": 88,
   "metadata": {},
   "outputs": [
    {
     "name": "stderr",
     "output_type": "stream",
     "text": [
      "11:09:41 - cmdstanpy - INFO - Chain [1] start processing\n",
      "11:09:41 - cmdstanpy - INFO - Chain [1] done processing\n",
      "11:09:41 - cmdstanpy - INFO - Chain [1] start processing\n",
      "11:09:41 - cmdstanpy - INFO - Chain [1] done processing\n",
      "11:09:41 - cmdstanpy - INFO - Chain [1] start processing\n"
     ]
    },
    {
     "name": "stdout",
     "output_type": "stream",
     "text": [
      "TESTING DIFFERENT CONFIGURATIONS...\n",
      "Config  1 | CP=0.05 | Mode=additive      | Monthly=True | MAPE=50.38% | R2=-3.194\n",
      "Config  2 | CP=0.05 | Mode=additive      | Monthly=True | MAPE=43.96% | R2=-2.189\n"
     ]
    },
    {
     "name": "stderr",
     "output_type": "stream",
     "text": [
      "11:09:41 - cmdstanpy - INFO - Chain [1] done processing\n",
      "11:09:41 - cmdstanpy - INFO - Chain [1] start processing\n"
     ]
    },
    {
     "name": "stdout",
     "output_type": "stream",
     "text": [
      "Config  3 | CP=0.05 | Mode=additive      | Monthly=True | MAPE=61.17% | R2=-4.921\n"
     ]
    },
    {
     "name": "stderr",
     "output_type": "stream",
     "text": [
      "11:09:44 - cmdstanpy - INFO - Chain [1] done processing\n",
      "11:09:44 - cmdstanpy - INFO - Chain [1] start processing\n",
      "11:09:44 - cmdstanpy - INFO - Chain [1] done processing\n",
      "11:09:44 - cmdstanpy - INFO - Chain [1] start processing\n",
      "11:09:44 - cmdstanpy - INFO - Chain [1] done processing\n",
      "11:09:44 - cmdstanpy - INFO - Chain [1] start processing\n",
      "11:09:44 - cmdstanpy - INFO - Chain [1] done processing\n",
      "11:09:44 - cmdstanpy - INFO - Chain [1] start processing\n",
      "11:09:44 - cmdstanpy - INFO - Chain [1] done processing\n"
     ]
    },
    {
     "name": "stdout",
     "output_type": "stream",
     "text": [
      "Config  4 | CP=0.05 | Mode=additive      | Monthly=True | MAPE=9.53% | R2=0.808\n",
      "Config  5 | CP=0.05 | Mode=additive      | Monthly=False | MAPE=51.26% | R2=-3.255\n",
      "Config  6 | CP=0.05 | Mode=additive      | Monthly=False | MAPE=51.26% | R2=-3.255\n",
      "Config  7 | CP=0.05 | Mode=additive      | Monthly=False | MAPE=51.26% | R2=-3.255\n"
     ]
    },
    {
     "name": "stderr",
     "output_type": "stream",
     "text": [
      "11:09:44 - cmdstanpy - INFO - Chain [1] start processing\n",
      "11:09:44 - cmdstanpy - INFO - Chain [1] done processing\n",
      "11:09:44 - cmdstanpy - INFO - Chain [1] start processing\n",
      "11:09:44 - cmdstanpy - INFO - Chain [1] done processing\n",
      "11:09:44 - cmdstanpy - INFO - Chain [1] start processing\n"
     ]
    },
    {
     "name": "stdout",
     "output_type": "stream",
     "text": [
      "Config  8 | CP=0.05 | Mode=additive      | Monthly=False | MAPE=51.26% | R2=-3.255\n",
      "Config  9 | CP=0.05 | Mode=multiplicative | Monthly=True | MAPE=60.55% | R2=-4.361\n",
      "Config 10 | CP=0.05 | Mode=multiplicative | Monthly=True | MAPE=73.60% | R2=-12.348\n"
     ]
    },
    {
     "name": "stderr",
     "output_type": "stream",
     "text": [
      "11:09:44 - cmdstanpy - INFO - Chain [1] done processing\n",
      "11:09:44 - cmdstanpy - INFO - Chain [1] start processing\n"
     ]
    },
    {
     "name": "stdout",
     "output_type": "stream",
     "text": [
      "Config 11 | CP=0.05 | Mode=multiplicative | Monthly=True | MAPE=224.31% | R2=-187.290\n"
     ]
    },
    {
     "name": "stderr",
     "output_type": "stream",
     "text": [
      "11:09:49 - cmdstanpy - INFO - Chain [1] done processing\n",
      "11:09:49 - cmdstanpy - INFO - Chain [1] start processing\n",
      "11:09:50 - cmdstanpy - INFO - Chain [1] done processing\n",
      "11:09:50 - cmdstanpy - INFO - Chain [1] start processing\n",
      "11:09:50 - cmdstanpy - INFO - Chain [1] done processing\n",
      "11:09:50 - cmdstanpy - INFO - Chain [1] start processing\n",
      "11:09:50 - cmdstanpy - INFO - Chain [1] done processing\n",
      "11:09:50 - cmdstanpy - INFO - Chain [1] start processing\n",
      "11:09:50 - cmdstanpy - INFO - Chain [1] done processing\n"
     ]
    },
    {
     "name": "stdout",
     "output_type": "stream",
     "text": [
      "Config 12 | CP=0.05 | Mode=multiplicative | Monthly=True | MAPE=232.72% | R2=-90.805\n",
      "Config 13 | CP=0.05 | Mode=multiplicative | Monthly=False | MAPE=51.26% | R2=-3.255\n",
      "Config 14 | CP=0.05 | Mode=multiplicative | Monthly=False | MAPE=51.26% | R2=-3.255\n",
      "Config 15 | CP=0.05 | Mode=multiplicative | Monthly=False | MAPE=51.26% | R2=-3.255\n"
     ]
    },
    {
     "name": "stderr",
     "output_type": "stream",
     "text": [
      "11:09:50 - cmdstanpy - INFO - Chain [1] start processing\n",
      "11:09:50 - cmdstanpy - INFO - Chain [1] done processing\n",
      "11:09:50 - cmdstanpy - INFO - Chain [1] start processing\n",
      "11:09:50 - cmdstanpy - INFO - Chain [1] done processing\n",
      "11:09:50 - cmdstanpy - INFO - Chain [1] start processing\n",
      "11:09:50 - cmdstanpy - INFO - Chain [1] done processing\n",
      "11:09:50 - cmdstanpy - INFO - Chain [1] start processing\n"
     ]
    },
    {
     "name": "stdout",
     "output_type": "stream",
     "text": [
      "Config 16 | CP=0.05 | Mode=multiplicative | Monthly=False | MAPE=51.26% | R2=-3.255\n",
      "Config 17 | CP=0.10 | Mode=additive      | Monthly=True | MAPE=50.41% | R2=-3.199\n",
      "Config 18 | CP=0.10 | Mode=additive      | Monthly=True | MAPE=43.99% | R2=-2.194\n",
      "Config 19 | CP=0.10 | Mode=additive      | Monthly=True | MAPE=61.23% | R2=-4.932\n"
     ]
    },
    {
     "name": "stderr",
     "output_type": "stream",
     "text": [
      "11:09:55 - cmdstanpy - INFO - Chain [1] done processing\n",
      "11:09:55 - cmdstanpy - INFO - Chain [1] start processing\n",
      "11:09:55 - cmdstanpy - INFO - Chain [1] done processing\n",
      "11:09:55 - cmdstanpy - INFO - Chain [1] start processing\n",
      "11:09:55 - cmdstanpy - INFO - Chain [1] done processing\n",
      "11:09:55 - cmdstanpy - INFO - Chain [1] start processing\n",
      "11:09:55 - cmdstanpy - INFO - Chain [1] done processing\n",
      "11:09:55 - cmdstanpy - INFO - Chain [1] start processing\n",
      "11:09:55 - cmdstanpy - INFO - Chain [1] done processing\n"
     ]
    },
    {
     "name": "stdout",
     "output_type": "stream",
     "text": [
      "Config 20 | CP=0.10 | Mode=additive      | Monthly=True | MAPE=25.67% | R2=0.039\n",
      "Config 21 | CP=0.10 | Mode=additive      | Monthly=False | MAPE=51.19% | R2=-3.243\n",
      "Config 22 | CP=0.10 | Mode=additive      | Monthly=False | MAPE=51.19% | R2=-3.243\n",
      "Config 23 | CP=0.10 | Mode=additive      | Monthly=False | MAPE=51.19% | R2=-3.243\n"
     ]
    },
    {
     "name": "stderr",
     "output_type": "stream",
     "text": [
      "11:09:55 - cmdstanpy - INFO - Chain [1] start processing\n",
      "11:09:55 - cmdstanpy - INFO - Chain [1] done processing\n",
      "11:09:55 - cmdstanpy - INFO - Chain [1] start processing\n",
      "11:09:55 - cmdstanpy - INFO - Chain [1] done processing\n",
      "11:09:55 - cmdstanpy - INFO - Chain [1] start processing\n"
     ]
    },
    {
     "name": "stdout",
     "output_type": "stream",
     "text": [
      "Config 24 | CP=0.10 | Mode=additive      | Monthly=False | MAPE=51.19% | R2=-3.243\n",
      "Config 25 | CP=0.10 | Mode=multiplicative | Monthly=True | MAPE=60.64% | R2=-4.376\n",
      "Config 26 | CP=0.10 | Mode=multiplicative | Monthly=True | MAPE=57.05% | R2=-4.986\n"
     ]
    },
    {
     "name": "stderr",
     "output_type": "stream",
     "text": [
      "11:10:00 - cmdstanpy - INFO - Chain [1] done processing\n",
      "11:10:00 - cmdstanpy - INFO - Chain [1] start processing\n"
     ]
    },
    {
     "name": "stdout",
     "output_type": "stream",
     "text": [
      "Config 27 | CP=0.10 | Mode=multiplicative | Monthly=True | MAPE=955.42% | R2=-1420.408\n"
     ]
    },
    {
     "name": "stderr",
     "output_type": "stream",
     "text": [
      "11:10:05 - cmdstanpy - INFO - Chain [1] done processing\n",
      "11:10:05 - cmdstanpy - INFO - Chain [1] start processing\n",
      "11:10:05 - cmdstanpy - INFO - Chain [1] done processing\n",
      "11:10:05 - cmdstanpy - INFO - Chain [1] start processing\n",
      "11:10:05 - cmdstanpy - INFO - Chain [1] done processing\n",
      "11:10:05 - cmdstanpy - INFO - Chain [1] start processing\n",
      "11:10:05 - cmdstanpy - INFO - Chain [1] done processing\n",
      "11:10:05 - cmdstanpy - INFO - Chain [1] start processing\n"
     ]
    },
    {
     "name": "stdout",
     "output_type": "stream",
     "text": [
      "Config 28 | CP=0.10 | Mode=multiplicative | Monthly=True | MAPE=189.06% | R2=-145.574\n",
      "Config 29 | CP=0.10 | Mode=multiplicative | Monthly=False | MAPE=51.19% | R2=-3.243\n",
      "Config 30 | CP=0.10 | Mode=multiplicative | Monthly=False | MAPE=51.19% | R2=-3.243\n",
      "Config 31 | CP=0.10 | Mode=multiplicative | Monthly=False | MAPE=51.19% | R2=-3.243\n"
     ]
    },
    {
     "name": "stderr",
     "output_type": "stream",
     "text": [
      "11:10:05 - cmdstanpy - INFO - Chain [1] done processing\n",
      "11:10:05 - cmdstanpy - INFO - Chain [1] start processing\n",
      "11:10:05 - cmdstanpy - INFO - Chain [1] done processing\n",
      "11:10:05 - cmdstanpy - INFO - Chain [1] start processing\n"
     ]
    },
    {
     "name": "stdout",
     "output_type": "stream",
     "text": [
      "Config 32 | CP=0.10 | Mode=multiplicative | Monthly=False | MAPE=51.19% | R2=-3.243\n",
      "Config 33 | CP=0.50 | Mode=additive      | Monthly=True | MAPE=100.43% | R2=-13.386\n"
     ]
    },
    {
     "name": "stderr",
     "output_type": "stream",
     "text": [
      "11:10:09 - cmdstanpy - INFO - Chain [1] done processing\n",
      "11:10:09 - cmdstanpy - INFO - Chain [1] start processing\n"
     ]
    },
    {
     "name": "stdout",
     "output_type": "stream",
     "text": [
      "Config 34 | CP=0.50 | Mode=additive      | Monthly=True | MAPE=44.98% | R2=-2.384\n"
     ]
    },
    {
     "name": "stderr",
     "output_type": "stream",
     "text": [
      "11:10:13 - cmdstanpy - INFO - Chain [1] done processing\n",
      "11:10:13 - cmdstanpy - INFO - Chain [1] start processing\n"
     ]
    },
    {
     "name": "stdout",
     "output_type": "stream",
     "text": [
      "Config 35 | CP=0.50 | Mode=additive      | Monthly=True | MAPE=64.41% | R2=-5.448\n"
     ]
    },
    {
     "name": "stderr",
     "output_type": "stream",
     "text": [
      "11:10:18 - cmdstanpy - INFO - Chain [1] done processing\n",
      "11:10:18 - cmdstanpy - INFO - Chain [1] start processing\n",
      "11:10:18 - cmdstanpy - INFO - Chain [1] done processing\n",
      "11:10:18 - cmdstanpy - INFO - Chain [1] start processing\n",
      "11:10:19 - cmdstanpy - INFO - Chain [1] done processing\n",
      "11:10:19 - cmdstanpy - INFO - Chain [1] start processing\n",
      "11:10:19 - cmdstanpy - INFO - Chain [1] done processing\n",
      "11:10:19 - cmdstanpy - INFO - Chain [1] start processing\n"
     ]
    },
    {
     "name": "stdout",
     "output_type": "stream",
     "text": [
      "Config 36 | CP=0.50 | Mode=additive      | Monthly=True | MAPE=163.27% | R2=-41.880\n",
      "Config 37 | CP=0.50 | Mode=additive      | Monthly=False | MAPE=97.73% | R2=-12.794\n",
      "Config 38 | CP=0.50 | Mode=additive      | Monthly=False | MAPE=97.73% | R2=-12.794\n",
      "Config 39 | CP=0.50 | Mode=additive      | Monthly=False | MAPE=97.73% | R2=-12.794\n"
     ]
    },
    {
     "name": "stderr",
     "output_type": "stream",
     "text": [
      "11:10:19 - cmdstanpy - INFO - Chain [1] done processing\n",
      "11:10:19 - cmdstanpy - INFO - Chain [1] start processing\n"
     ]
    },
    {
     "name": "stdout",
     "output_type": "stream",
     "text": [
      "Config 40 | CP=0.50 | Mode=additive      | Monthly=False | MAPE=97.73% | R2=-12.794\n"
     ]
    },
    {
     "name": "stderr",
     "output_type": "stream",
     "text": [
      "11:10:22 - cmdstanpy - INFO - Chain [1] done processing\n",
      "11:10:22 - cmdstanpy - INFO - Chain [1] start processing\n"
     ]
    },
    {
     "name": "stdout",
     "output_type": "stream",
     "text": [
      "Config 41 | CP=0.50 | Mode=multiplicative | Monthly=True | MAPE=105.83% | R2=-14.648\n"
     ]
    },
    {
     "name": "stderr",
     "output_type": "stream",
     "text": [
      "11:10:25 - cmdstanpy - INFO - Chain [1] done processing\n",
      "11:10:26 - cmdstanpy - INFO - Chain [1] start processing\n"
     ]
    },
    {
     "name": "stdout",
     "output_type": "stream",
     "text": [
      "Config 42 | CP=0.50 | Mode=multiplicative | Monthly=True | MAPE=53.67% | R2=-4.048\n"
     ]
    },
    {
     "name": "stderr",
     "output_type": "stream",
     "text": [
      "11:10:30 - cmdstanpy - INFO - Chain [1] done processing\n",
      "11:10:30 - cmdstanpy - INFO - Chain [1] start processing\n"
     ]
    },
    {
     "name": "stdout",
     "output_type": "stream",
     "text": [
      "Config 43 | CP=0.50 | Mode=multiplicative | Monthly=True | MAPE=240.53% | R2=-86.595\n"
     ]
    },
    {
     "name": "stderr",
     "output_type": "stream",
     "text": [
      "11:10:35 - cmdstanpy - INFO - Chain [1] done processing\n",
      "11:10:35 - cmdstanpy - INFO - Chain [1] start processing\n",
      "11:10:35 - cmdstanpy - INFO - Chain [1] done processing\n",
      "11:10:35 - cmdstanpy - INFO - Chain [1] start processing\n",
      "11:10:35 - cmdstanpy - INFO - Chain [1] done processing\n",
      "11:10:35 - cmdstanpy - INFO - Chain [1] start processing\n",
      "11:10:35 - cmdstanpy - INFO - Chain [1] done processing\n",
      "11:10:35 - cmdstanpy - INFO - Chain [1] start processing\n"
     ]
    },
    {
     "name": "stdout",
     "output_type": "stream",
     "text": [
      "Config 44 | CP=0.50 | Mode=multiplicative | Monthly=True | MAPE=250.03% | R2=-140.618\n",
      "Config 45 | CP=0.50 | Mode=multiplicative | Monthly=False | MAPE=97.73% | R2=-12.794\n",
      "Config 46 | CP=0.50 | Mode=multiplicative | Monthly=False | MAPE=97.73% | R2=-12.794\n",
      "Config 47 | CP=0.50 | Mode=multiplicative | Monthly=False | MAPE=97.73% | R2=-12.794\n"
     ]
    },
    {
     "name": "stderr",
     "output_type": "stream",
     "text": [
      "11:10:35 - cmdstanpy - INFO - Chain [1] done processing\n",
      "11:10:35 - cmdstanpy - INFO - Chain [1] start processing\n",
      "11:10:35 - cmdstanpy - INFO - Chain [1] done processing\n",
      "11:10:35 - cmdstanpy - INFO - Chain [1] start processing\n"
     ]
    },
    {
     "name": "stdout",
     "output_type": "stream",
     "text": [
      "Config 48 | CP=0.50 | Mode=multiplicative | Monthly=False | MAPE=97.73% | R2=-12.794\n",
      "Config 49 | CP=1.00 | Mode=additive      | Monthly=True | MAPE=96.34% | R2=-12.234\n"
     ]
    },
    {
     "name": "stderr",
     "output_type": "stream",
     "text": [
      "11:10:39 - cmdstanpy - INFO - Chain [1] done processing\n",
      "11:10:39 - cmdstanpy - INFO - Chain [1] start processing\n"
     ]
    },
    {
     "name": "stdout",
     "output_type": "stream",
     "text": [
      "Config 50 | CP=1.00 | Mode=additive      | Monthly=True | MAPE=29.16% | R2=-1.459\n"
     ]
    },
    {
     "name": "stderr",
     "output_type": "stream",
     "text": [
      "11:10:44 - cmdstanpy - INFO - Chain [1] done processing\n",
      "11:10:44 - cmdstanpy - INFO - Chain [1] start processing\n"
     ]
    },
    {
     "name": "stdout",
     "output_type": "stream",
     "text": [
      "Config 51 | CP=1.00 | Mode=additive      | Monthly=True | MAPE=75.19% | R2=-9.241\n"
     ]
    },
    {
     "name": "stderr",
     "output_type": "stream",
     "text": [
      "11:10:47 - cmdstanpy - INFO - Chain [1] done processing\n",
      "11:10:47 - cmdstanpy - INFO - Chain [1] start processing\n",
      "11:10:47 - cmdstanpy - INFO - Chain [1] done processing\n",
      "11:10:47 - cmdstanpy - INFO - Chain [1] start processing\n",
      "11:10:47 - cmdstanpy - INFO - Chain [1] done processing\n",
      "11:10:47 - cmdstanpy - INFO - Chain [1] start processing\n"
     ]
    },
    {
     "name": "stdout",
     "output_type": "stream",
     "text": [
      "Config 52 | CP=1.00 | Mode=additive      | Monthly=True | MAPE=12.27% | R2=0.618\n",
      "Config 53 | CP=1.00 | Mode=additive      | Monthly=False | MAPE=93.54% | R2=-11.671\n",
      "Config 54 | CP=1.00 | Mode=additive      | Monthly=False | MAPE=93.54% | R2=-11.671\n"
     ]
    },
    {
     "name": "stderr",
     "output_type": "stream",
     "text": [
      "11:10:47 - cmdstanpy - INFO - Chain [1] done processing\n",
      "11:10:47 - cmdstanpy - INFO - Chain [1] start processing\n",
      "11:10:47 - cmdstanpy - INFO - Chain [1] done processing\n",
      "11:10:47 - cmdstanpy - INFO - Chain [1] start processing\n"
     ]
    },
    {
     "name": "stdout",
     "output_type": "stream",
     "text": [
      "Config 55 | CP=1.00 | Mode=additive      | Monthly=False | MAPE=93.54% | R2=-11.671\n",
      "Config 56 | CP=1.00 | Mode=additive      | Monthly=False | MAPE=93.54% | R2=-11.671\n"
     ]
    },
    {
     "name": "stderr",
     "output_type": "stream",
     "text": [
      "11:10:50 - cmdstanpy - INFO - Chain [1] done processing\n",
      "11:10:50 - cmdstanpy - INFO - Chain [1] start processing\n"
     ]
    },
    {
     "name": "stdout",
     "output_type": "stream",
     "text": [
      "Config 57 | CP=1.00 | Mode=multiplicative | Monthly=True | MAPE=121.67% | R2=-20.774\n"
     ]
    },
    {
     "name": "stderr",
     "output_type": "stream",
     "text": [
      "11:10:54 - cmdstanpy - INFO - Chain [1] done processing\n",
      "11:10:54 - cmdstanpy - INFO - Chain [1] start processing\n"
     ]
    },
    {
     "name": "stdout",
     "output_type": "stream",
     "text": [
      "Config 58 | CP=1.00 | Mode=multiplicative | Monthly=True | MAPE=293.75% | R2=-141.339\n"
     ]
    },
    {
     "name": "stderr",
     "output_type": "stream",
     "text": [
      "11:10:58 - cmdstanpy - INFO - Chain [1] done processing\n",
      "11:10:58 - cmdstanpy - INFO - Chain [1] start processing\n"
     ]
    },
    {
     "name": "stdout",
     "output_type": "stream",
     "text": [
      "Config 59 | CP=1.00 | Mode=multiplicative | Monthly=True | MAPE=189.29% | R2=-103.182\n"
     ]
    },
    {
     "name": "stderr",
     "output_type": "stream",
     "text": [
      "11:11:04 - cmdstanpy - INFO - Chain [1] done processing\n",
      "11:11:04 - cmdstanpy - INFO - Chain [1] start processing\n",
      "11:11:04 - cmdstanpy - INFO - Chain [1] done processing\n",
      "11:11:04 - cmdstanpy - INFO - Chain [1] start processing\n",
      "11:11:04 - cmdstanpy - INFO - Chain [1] done processing\n",
      "11:11:04 - cmdstanpy - INFO - Chain [1] start processing\n"
     ]
    },
    {
     "name": "stdout",
     "output_type": "stream",
     "text": [
      "Config 60 | CP=1.00 | Mode=multiplicative | Monthly=True | MAPE=675.74% | R2=-718.770\n",
      "Config 61 | CP=1.00 | Mode=multiplicative | Monthly=False | MAPE=93.54% | R2=-11.671\n",
      "Config 62 | CP=1.00 | Mode=multiplicative | Monthly=False | MAPE=93.54% | R2=-11.671\n"
     ]
    },
    {
     "name": "stderr",
     "output_type": "stream",
     "text": [
      "11:11:04 - cmdstanpy - INFO - Chain [1] done processing\n",
      "11:11:04 - cmdstanpy - INFO - Chain [1] start processing\n",
      "11:11:04 - cmdstanpy - INFO - Chain [1] done processing\n"
     ]
    },
    {
     "name": "stdout",
     "output_type": "stream",
     "text": [
      "Config 63 | CP=1.00 | Mode=multiplicative | Monthly=False | MAPE=93.54% | R2=-11.671\n",
      "Config 64 | CP=1.00 | Mode=multiplicative | Monthly=False | MAPE=93.54% | R2=-11.671\n"
     ]
    }
   ],
   "source": [
    "print(\"TESTING DIFFERENT CONFIGURATIONS...\")\n",
    "\n",
    "config_num = 0\n",
    "for cp_scale, seas_mode, add_monthly, f_order in product(\n",
    "    changepoint_scales, seasonality_modes, add_monthly_seasonality, fourier_orders):\n",
    "    \n",
    "    config_num += 1\n",
    "    \n",
    "    try:\n",
    "        # Initialize model\n",
    "        model = Prophet(\n",
    "            yearly_seasonality=False,\n",
    "            weekly_seasonality=False,\n",
    "            daily_seasonality=False,\n",
    "            seasonality_mode=seas_mode,\n",
    "            changepoint_prior_scale=cp_scale,\n",
    "            interval_width=0.8\n",
    "        )\n",
    "        \n",
    "        # Add custom monthly seasonality if requested\n",
    "        if add_monthly:\n",
    "            model.add_seasonality(\n",
    "                name='monthly',\n",
    "                period=30.5,  # ~1 month\n",
    "                fourier_order=f_order\n",
    "            )\n",
    "        \n",
    "        # Train model\n",
    "        model.fit(prophet_train)\n",
    "        \n",
    "        # Forecast\n",
    "        future = model.make_future_dataframe(periods=4, freq='W')\n",
    "        forecast = model.predict(future)\n",
    "        forecast_test = forecast.tail(4)\n",
    "        y_pred = forecast_test['yhat'].values\n",
    "        \n",
    "        # Evaluate\n",
    "        eps = 1e-6  # to avoid division by zero in MAPE\n",
    "        mae = mean_absolute_error(y_test, y_pred)\n",
    "        rmse = np.sqrt(mean_squared_error(y_test, y_pred))\n",
    "        mape = np.mean(np.abs((y_test - y_pred) / (y_test + eps))) * 100\n",
    "        r2 = r2_score(y_test, y_pred)\n",
    "        \n",
    "        # Store results\n",
    "        results.append({\n",
    "            'config': config_num,\n",
    "            'changepoint_scale': cp_scale,\n",
    "            'seasonality_mode': seas_mode,\n",
    "            'monthly_seasonality': add_monthly,\n",
    "            'MAE': mae,\n",
    "            'RMSE': rmse,\n",
    "            'MAPE': mape,\n",
    "            'R2': r2,\n",
    "            'forecast': y_pred,\n",
    "            'fourier_order': f_order,\n",
    "            'model': model\n",
    "        })\n",
    "        \n",
    "        print(f\"Config {config_num:2d} | CP={cp_scale:.2f} | Mode={seas_mode:13s} | Monthly={add_monthly} | MAPE={mape:.2f}% | R2={r2:.3f}\")\n",
    "        \n",
    "    except Exception as e:\n",
    "        print(f\"Config {config_num:2d} | FAILED: {e}\")\n"
   ]
  },
  {
   "cell_type": "markdown",
   "metadata": {},
   "source": [
    "#### BEST CONFIGURATION"
   ]
  },
  {
   "cell_type": "code",
   "execution_count": 89,
   "metadata": {},
   "outputs": [
    {
     "name": "stdout",
     "output_type": "stream",
     "text": [
      " config  changepoint_scale seasonality_mode  fourier_order  monthly_seasonality        MAE       RMSE      MAPE        R2\n",
      "      1               0.05         additive              3                 True 549.687479 693.635855 50.377096 -3.193737\n",
      "      2               0.05         additive              5                 True 480.344517 604.905335 43.957497 -2.189429\n",
      "      3               0.05         additive              8                 True 678.016939 824.168895 61.174740 -4.920666\n",
      "      4               0.05         additive             10                 True 111.256389 148.497746  9.531854  0.807789\n",
      "      5               0.05         additive              3                False 563.127263 698.691784 51.255042 -3.255097\n",
      "Forecasted: [1838, 1891, 1957, 2068]\n",
      "Actual:     [1829, 1577, 1203, 947]\n"
     ]
    }
   ],
   "source": [
    "results_df = pd.DataFrame(results)\n",
    "best_by_mape = results_df.sort_values('MAPE').head(5)\n",
    "\n",
    "print(results_df[['config', 'changepoint_scale', 'seasonality_mode', 'fourier_order',\n",
    "                   'monthly_seasonality', 'MAE', 'RMSE', 'MAPE', 'R2']].head(5).to_string(index=False))\n",
    "\n",
    "# Get best model\n",
    "best_config = results_df.iloc[0]\n",
    "best_model = best_config['model']\n",
    "best_forecast = best_config['forecast']\n",
    "\n",
    "#print(f\"Changepoint Scale: {best_config['changepoint_scale']}\")\n",
    "#print(f\"Seasonality Mode: {best_config['seasonality_mode']}\")\n",
    "#print(f\"Monthly Seasonality: {best_config['monthly_seasonality']}\")\n",
    "print(f\"Forecasted: {best_forecast.round().astype(int).tolist()}\")\n",
    "print(f\"Actual:     {y_test.tolist()}\")"
   ]
  },
  {
   "cell_type": "code",
   "execution_count": 90,
   "metadata": {},
   "outputs": [],
   "source": [
    "BEST_SEASONALITY_MODE='additive' #seasonality_mode\n",
    "BEST_CP_SCALE=0.05 #changepoint_scale\n",
    "BEST_FOURIER_ORDER=10 #fourier_order\n",
    "ADD_MONTHLY=True #monthly_seasonality"
   ]
  },
  {
   "cell_type": "markdown",
   "metadata": {},
   "source": [
    "#### INITIALIZE AND TRAIN PROPHET MODEL WITH BEST CONFIGURATION"
   ]
  },
  {
   "cell_type": "code",
   "execution_count": 91,
   "metadata": {},
   "outputs": [],
   "source": [
    "model = Prophet(\n",
    "    yearly_seasonality=False,\n",
    "    weekly_seasonality=False,\n",
    "    daily_seasonality=False,\n",
    "    seasonality_mode=BEST_SEASONALITY_MODE,\n",
    "    interval_width=0.8,\n",
    "    changepoint_prior_scale=BEST_CP_SCALE\n",
    ")\n",
    "if ADD_MONTHLY:\n",
    "    model.add_seasonality(\n",
    "        name='monthly',\n",
    "        period=30.5,\n",
    "        fourier_order=BEST_FOURIER_ORDER\n",
    "    )"
   ]
  },
  {
   "cell_type": "code",
   "execution_count": 92,
   "metadata": {},
   "outputs": [
    {
     "name": "stderr",
     "output_type": "stream",
     "text": [
      "11:11:04 - cmdstanpy - INFO - Chain [1] start processing\n"
     ]
    },
    {
     "name": "stdout",
     "output_type": "stream",
     "text": [
      "Training Prophet model...\n"
     ]
    },
    {
     "name": "stderr",
     "output_type": "stream",
     "text": [
      "11:11:06 - cmdstanpy - INFO - Chain [1] done processing\n"
     ]
    },
    {
     "name": "stdout",
     "output_type": "stream",
     "text": [
      "Model trained successfully!\n"
     ]
    }
   ],
   "source": [
    "print(\"Training Prophet model...\")\n",
    "model.fit(prophet_train)\n",
    "print(\"Model trained successfully!\")"
   ]
  },
  {
   "cell_type": "markdown",
   "metadata": {},
   "source": [
    "#### MAKE FORECAST"
   ]
  },
  {
   "cell_type": "code",
   "execution_count": 93,
   "metadata": {},
   "outputs": [],
   "source": [
    "# Create future dataframe (includes training + 4 new weeks)\n",
    "future = model.make_future_dataframe(periods=4, freq='W')\n",
    "\n",
    "# Generate forecast\n",
    "forecast = model.predict(future)\n",
    "\n",
    "# Extract forecast for test period only\n",
    "forecast_test = forecast.tail(4)\n",
    "\n",
    "# Get predictions\n",
    "y_pred = forecast_test['yhat'].values           # Point forecast\n",
    "y_pred_lower = forecast_test['yhat_lower'].values  # Lower bound\n",
    "y_pred_upper = forecast_test['yhat_upper'].values  # Upper bound"
   ]
  },
  {
   "cell_type": "markdown",
   "metadata": {},
   "source": [
    "#### EVALUATE ACCURACY"
   ]
  },
  {
   "cell_type": "code",
   "execution_count": 94,
   "metadata": {},
   "outputs": [
    {
     "name": "stdout",
     "output_type": "stream",
     "text": [
      "RESULTS - Prophet Forecast\n",
      "Forecasted: [1975, 1552, 1185, 690]\n",
      "Actual:     [1829, 1577, 1203, 947]\n",
      "\n",
      "Accuracy Metrics:\n",
      "  MAE:      111.26 cases\n",
      "  RMSE:     148.50 cases\n",
      "  MAPE:     9.53%\n",
      "  Coverage: 75.0% (actual within prediction interval)\n"
     ]
    }
   ],
   "source": [
    "y_test = test_df['cases'].values\n",
    "\n",
    "# Calculate metrics\n",
    "mae = mean_absolute_error(y_test, y_pred)\n",
    "rmse = np.sqrt(mean_squared_error(y_test, y_pred))\n",
    "mape = np.mean(np.abs((y_test - y_pred) / y_test)) * 100\n",
    "\n",
    "# Calculate prediction interval coverage\n",
    "coverage = np.sum((y_test >= y_pred_lower) & (y_test <= y_pred_upper)) / len(y_test) * 100\n",
    "\n",
    "print(\"RESULTS - Prophet Forecast\")\n",
    "print(f\"Forecasted: {y_pred.round().astype(int).tolist()}\")\n",
    "print(f\"Actual:     {y_test.tolist()}\")\n",
    "print(f\"\\nAccuracy Metrics:\")\n",
    "print(f\"  MAE:      {mae:.2f} cases\")\n",
    "print(f\"  RMSE:     {rmse:.2f} cases\")\n",
    "print(f\"  MAPE:     {mape:.2f}%\")\n",
    "print(f\"  Coverage: {coverage:.1f}% (actual within prediction interval)\")"
   ]
  },
  {
   "cell_type": "code",
   "execution_count": null,
   "metadata": {},
   "outputs": [],
   "source": []
  },
  {
   "cell_type": "markdown",
   "metadata": {},
   "source": [
    "#### VISUALIZE FORECAST"
   ]
  },
  {
   "cell_type": "code",
   "execution_count": null,
   "metadata": {},
   "outputs": [
    {
     "data": {
      "image/png": "[encoded data removed]",
      "text/plain": [
       "<Figure size 1400x700 with 1 Axes>"
      ]
     },
     "metadata": {},
     "output_type": "display_data"
    }
   ],
   "source": [
    "plt.figure(figsize=(14, 7))\n",
    "# Plot training data\n",
    "plt.plot(train_df['date'], train_df['cases'], \n",
    "         'o-', label='Training Data (Historical)', \n",
    "         color='royalblue', linewidth=2, markersize=5)\n",
    "\n",
    "# Plot actual test data\n",
    "plt.plot(test_df['date'], y_test, \n",
    "         's-', label='Actual (Ground Truth)', \n",
    "         color='green', linewidth=2.5, markersize=7)\n",
    "\n",
    "# Plot forecast\n",
    "plt.plot(test_df['date'], y_pred, \n",
    "         '^-', label='Prophet Forecast', \n",
    "         color='tomato', linewidth=2.5, markersize=7)\n",
    "\n",
    "# Plot prediction interval\n",
    "plt.fill_between(test_df['date'], y_pred_lower, y_pred_upper, \n",
    "                 alpha=0.3, color='tomato', \n",
    "                 label='80% Prediction Interval')\n",
    "\n",
    "# Formatting\n",
    "plt.xlabel('Date', fontsize=12, fontweight='bold')\n",
    "plt.ylabel('Number of Cases', fontsize=12, fontweight='bold')\n",
    "plt.title('Epidemic Curve Forecast with Prophet', \n",
    "          fontsize=14, fontweight='bold')\n",
    "plt.legend(loc='best', fontsize=10)\n",
    "plt.grid(True, alpha=0.3)\n",
    "plt.xticks(rotation=45)\n",
    "plt.tight_layout()"
   ]
  },
  {
   "cell_type": "code",
   "execution_count": null,
   "metadata": {},
   "outputs": [],
   "source": []
  }
 ],
 "metadata": {
  "kernelspec": {
   "display_name": "inserm",
   "language": "python",
   "name": "python3"
  },
  "language_info": {
   "codemirror_mode": {
    "name": "ipython",
    "version": 3
   },
   "file_extension": ".py",
   "mimetype": "text/x-python",
   "name": "python",
   "nbconvert_exporter": "python",
   "pygments_lexer": "ipython3",
   "version": "3.11.14"
  }
 },
 "nbformat": 4,
 "nbformat_minor": 2
}
