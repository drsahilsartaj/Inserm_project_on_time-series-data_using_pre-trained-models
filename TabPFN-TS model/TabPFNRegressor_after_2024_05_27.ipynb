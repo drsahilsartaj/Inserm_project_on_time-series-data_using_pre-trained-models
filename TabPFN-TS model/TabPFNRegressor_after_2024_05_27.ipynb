{
 "cells": [
  {
   "cell_type": "markdown",
   "metadata": {},
   "source": [
    "!pip install tabpfn"
   ]
  },
  {
   "cell_type": "code",
   "execution_count": 3,
   "metadata": {},
   "outputs": [],
   "source": [
    "# Libraries\n",
    "import os, io, time, requests\n",
    "import pandas as pd, numpy as np, matplotlib.pyplot as plt\n",
    "from tabpfn import TabPFNRegressor\n",
    "from sklearn.metrics import mean_absolute_error, r2_score"
   ]
  },
  {
   "cell_type": "code",
   "execution_count": 4,
   "metadata": {},
   "outputs": [],
   "source": [
    "# Configurations\n",
    "'''\n",
    "Without it, TabPFN (a machine learning library) will refuse to run if the dataset has more than 1,000 rows on a CPU.\n",
    "'''\n",
    "os.environ[\"TABPFN_ALLOW_CPU_LARGE_DATASET\"] = \"1\" "
   ]
  },
  {
   "cell_type": "code",
   "execution_count": 5,
   "metadata": {},
   "outputs": [],
   "source": [
    "DATASET = \"../epidemic_curve.csv\""
   ]
  },
  {
   "cell_type": "code",
   "execution_count": 6,
   "metadata": {},
   "outputs": [],
   "source": [
    "'''\n",
    "parse_dates argument ensures that the \"date\" column is read as datetime objects.\n",
    "set_index argument sets the \"Date\" column as the index of the DataFrame.\n",
    "sort_index argument sorts the DataFrame by the index (dates) in ascending order.\n",
    "'''\n",
    "df = (\n",
    "    pd.read_csv(DATASET, parse_dates=[\"date\"])\n",
    "    .rename(columns={\"date\": \"Date\", \"cases\": \"Value\"})\n",
    "    .set_index(\"Date\")\n",
    "    .sort_index()\n",
    ")"
   ]
  },
  {
   "cell_type": "code",
   "execution_count": 7,
   "metadata": {},
   "outputs": [],
   "source": [
    "df[\"week\"]=df.index.isocalendar().week.astype(int) # Add week number column\n",
    "df[\"run_idx\"] = np.arange(len(df)) / len(df) # It’s a simple trend feature (time-progress indicator), scaled between 0 and 1 \n"
   ]
  },
  {
   "cell_type": "markdown",
   "metadata": {},
   "source": [
    "`df[\"run_idx\"] = np.arange(len(df)) / len(df)`\n",
    "\n",
    "- Creates a column with numbers from 0 to 1 representing progress through the dataset\n",
    "- np.arange(len(df)) makes [0, 1, 2, 3, ..., last_row]\n",
    "- Dividing by len(df) normalizes it to [0, 0.01, 0.02, ..., 1.0]"
   ]
  },
  {
   "cell_type": "code",
   "execution_count": 9,
   "metadata": {},
   "outputs": [
    {
     "data": {
      "text/html": [
       "<div>\n",
       "<style scoped>\n",
       "    .dataframe tbody tr th:only-of-type {\n",
       "        vertical-align: middle;\n",
       "    }\n",
       "\n",
       "    .dataframe tbody tr th {\n",
       "        vertical-align: top;\n",
       "    }\n",
       "\n",
       "    .dataframe thead th {\n",
       "        text-align: right;\n",
       "    }\n",
       "</style>\n",
       "<table border=\"1\" class=\"dataframe\">\n",
       "  <thead>\n",
       "    <tr style=\"text-align: right;\">\n",
       "      <th></th>\n",
       "      <th>Value</th>\n",
       "      <th>week</th>\n",
       "      <th>run_idx</th>\n",
       "    </tr>\n",
       "    <tr>\n",
       "      <th>Date</th>\n",
       "      <th></th>\n",
       "      <th></th>\n",
       "      <th></th>\n",
       "    </tr>\n",
       "  </thead>\n",
       "  <tbody>\n",
       "    <tr>\n",
       "      <th>2024-09-02</th>\n",
       "      <td>33</td>\n",
       "      <td>36</td>\n",
       "      <td>0.875</td>\n",
       "    </tr>\n",
       "    <tr>\n",
       "      <th>2024-09-09</th>\n",
       "      <td>0</td>\n",
       "      <td>37</td>\n",
       "      <td>0.900</td>\n",
       "    </tr>\n",
       "    <tr>\n",
       "      <th>2024-09-16</th>\n",
       "      <td>0</td>\n",
       "      <td>38</td>\n",
       "      <td>0.925</td>\n",
       "    </tr>\n",
       "    <tr>\n",
       "      <th>2024-09-23</th>\n",
       "      <td>0</td>\n",
       "      <td>39</td>\n",
       "      <td>0.950</td>\n",
       "    </tr>\n",
       "    <tr>\n",
       "      <th>2024-09-30</th>\n",
       "      <td>66</td>\n",
       "      <td>40</td>\n",
       "      <td>0.975</td>\n",
       "    </tr>\n",
       "  </tbody>\n",
       "</table>\n",
       "</div>"
      ],
      "text/plain": [
       "            Value  week  run_idx\n",
       "Date                            \n",
       "2024-09-02     33    36    0.875\n",
       "2024-09-09      0    37    0.900\n",
       "2024-09-16      0    38    0.925\n",
       "2024-09-23      0    39    0.950\n",
       "2024-09-30     66    40    0.975"
      ]
     },
     "execution_count": 9,
     "metadata": {},
     "output_type": "execute_result"
    }
   ],
   "source": [
    "df.tail()"
   ]
  },
  {
   "cell_type": "markdown",
   "metadata": {},
   "source": [
    "We can see run_idx is creasing from first week to last week so using that we can check the cases is increasing at the end of the week or its decreasing. If the cases are so random then we can ignore it for sure so its an option feature for us.\n"
   ]
  },
  {
   "cell_type": "code",
   "execution_count": 10,
   "metadata": {},
   "outputs": [
    {
     "data": {
      "text/plain": [
       "'\\n.drop() Takes all columns EXCEPT \"Value\"\\n\\nX_tr = Features (inputs): the \"month\" and \"run_idx\" columns\\ny_tr = Target (what we\\'re predicting): the \"Value\" column \\nSame split for test: X_te and y_te\\n'"
      ]
     },
     "execution_count": 10,
     "metadata": {},
     "output_type": "execute_result"
    }
   ],
   "source": [
    "# Split the data into training and testing sets\n",
    "\n",
    "HORIZON = 4  # forecast 4 weeks ahead\n",
    "\n",
    "cutoff = pd.to_datetime(\"2024-05-27\")\n",
    "\n",
    "train = df.loc[:cutoff]\n",
    "\n",
    "##the next 4 weeks after cutoff\n",
    "test = df.loc[cutoff + pd.Timedelta(weeks=1):].head(HORIZON) \n",
    "\n",
    "#train, test = df.iloc[:-HORIZON], df.iloc[-HORIZON:]\n",
    "'''\n",
    "df.iloc[:-HORIZON] = All rows EXCEPT the last 16 -> training data\n",
    "df.iloc[-HORIZON:] = The last 16 rows -> testing data\n",
    "'''\n",
    "\n",
    "X_tr, y_tr  = train.drop(columns=\"Value\"), train[\"Value\"]\n",
    "X_te, y_te  = test.drop(columns=\"Value\"),  test[\"Value\"]\n",
    "'''\n",
    ".drop() Takes all columns EXCEPT \"Value\"\n",
    "\n",
    "X_tr = Features (inputs): the \"month\" and \"run_idx\" columns\n",
    "y_tr = Target (what we're predicting): the \"Value\" column \n",
    "Same split for test: X_te and y_te\n",
    "'''\n"
   ]
  },
  {
   "cell_type": "code",
   "execution_count": 11,
   "metadata": {},
   "outputs": [
    {
     "data": {
      "text/html": [
       "<div>\n",
       "<style scoped>\n",
       "    .dataframe tbody tr th:only-of-type {\n",
       "        vertical-align: middle;\n",
       "    }\n",
       "\n",
       "    .dataframe tbody tr th {\n",
       "        vertical-align: top;\n",
       "    }\n",
       "\n",
       "    .dataframe thead th {\n",
       "        text-align: right;\n",
       "    }\n",
       "</style>\n",
       "<table border=\"1\" class=\"dataframe\">\n",
       "  <thead>\n",
       "    <tr style=\"text-align: right;\">\n",
       "      <th></th>\n",
       "      <th>week</th>\n",
       "      <th>run_idx</th>\n",
       "    </tr>\n",
       "    <tr>\n",
       "      <th>Date</th>\n",
       "      <th></th>\n",
       "      <th></th>\n",
       "    </tr>\n",
       "  </thead>\n",
       "  <tbody>\n",
       "    <tr>\n",
       "      <th>2024-04-29</th>\n",
       "      <td>18</td>\n",
       "      <td>0.425</td>\n",
       "    </tr>\n",
       "    <tr>\n",
       "      <th>2024-05-06</th>\n",
       "      <td>19</td>\n",
       "      <td>0.450</td>\n",
       "    </tr>\n",
       "    <tr>\n",
       "      <th>2024-05-13</th>\n",
       "      <td>20</td>\n",
       "      <td>0.475</td>\n",
       "    </tr>\n",
       "    <tr>\n",
       "      <th>2024-05-20</th>\n",
       "      <td>21</td>\n",
       "      <td>0.500</td>\n",
       "    </tr>\n",
       "    <tr>\n",
       "      <th>2024-05-27</th>\n",
       "      <td>22</td>\n",
       "      <td>0.525</td>\n",
       "    </tr>\n",
       "  </tbody>\n",
       "</table>\n",
       "</div>"
      ],
      "text/plain": [
       "            week  run_idx\n",
       "Date                     \n",
       "2024-04-29    18    0.425\n",
       "2024-05-06    19    0.450\n",
       "2024-05-13    20    0.475\n",
       "2024-05-20    21    0.500\n",
       "2024-05-27    22    0.525"
      ]
     },
     "execution_count": 11,
     "metadata": {},
     "output_type": "execute_result"
    }
   ],
   "source": [
    "X_tr.tail()  # Display the last few rows of the training features"
   ]
  },
  {
   "cell_type": "code",
   "execution_count": 12,
   "metadata": {},
   "outputs": [
    {
     "data": {
      "text/plain": [
       "Date\n",
       "2024-04-29    1528\n",
       "2024-05-06    1763\n",
       "2024-05-13    1865\n",
       "2024-05-20    2049\n",
       "2024-05-27    1892\n",
       "Name: Value, dtype: int64"
      ]
     },
     "execution_count": 12,
     "metadata": {},
     "output_type": "execute_result"
    }
   ],
   "source": [
    "y_tr.tail()  # Display the last few rows of the training target values"
   ]
  },
  {
   "cell_type": "code",
   "execution_count": 13,
   "metadata": {},
   "outputs": [
    {
     "data": {
      "text/html": [
       "<div>\n",
       "<style scoped>\n",
       "    .dataframe tbody tr th:only-of-type {\n",
       "        vertical-align: middle;\n",
       "    }\n",
       "\n",
       "    .dataframe tbody tr th {\n",
       "        vertical-align: top;\n",
       "    }\n",
       "\n",
       "    .dataframe thead th {\n",
       "        text-align: right;\n",
       "    }\n",
       "</style>\n",
       "<table border=\"1\" class=\"dataframe\">\n",
       "  <thead>\n",
       "    <tr style=\"text-align: right;\">\n",
       "      <th></th>\n",
       "      <th>week</th>\n",
       "      <th>run_idx</th>\n",
       "    </tr>\n",
       "    <tr>\n",
       "      <th>Date</th>\n",
       "      <th></th>\n",
       "      <th></th>\n",
       "    </tr>\n",
       "  </thead>\n",
       "  <tbody>\n",
       "    <tr>\n",
       "      <th>2024-06-03</th>\n",
       "      <td>23</td>\n",
       "      <td>0.550</td>\n",
       "    </tr>\n",
       "    <tr>\n",
       "      <th>2024-06-10</th>\n",
       "      <td>24</td>\n",
       "      <td>0.575</td>\n",
       "    </tr>\n",
       "    <tr>\n",
       "      <th>2024-06-17</th>\n",
       "      <td>25</td>\n",
       "      <td>0.600</td>\n",
       "    </tr>\n",
       "    <tr>\n",
       "      <th>2024-06-24</th>\n",
       "      <td>26</td>\n",
       "      <td>0.625</td>\n",
       "    </tr>\n",
       "  </tbody>\n",
       "</table>\n",
       "</div>"
      ],
      "text/plain": [
       "            week  run_idx\n",
       "Date                     \n",
       "2024-06-03    23    0.550\n",
       "2024-06-10    24    0.575\n",
       "2024-06-17    25    0.600\n",
       "2024-06-24    26    0.625"
      ]
     },
     "execution_count": 13,
     "metadata": {},
     "output_type": "execute_result"
    }
   ],
   "source": [
    "X_te.tail()  # Display the last few rows of the testing features"
   ]
  },
  {
   "cell_type": "code",
   "execution_count": 14,
   "metadata": {},
   "outputs": [
    {
     "data": {
      "text/plain": [
       "Date\n",
       "2024-06-03    1829\n",
       "2024-06-10    1577\n",
       "2024-06-17    1203\n",
       "2024-06-24     947\n",
       "Name: Value, dtype: int64"
      ]
     },
     "execution_count": 14,
     "metadata": {},
     "output_type": "execute_result"
    }
   ],
   "source": [
    "y_te.tail()  # Display the last few rows of the testing target values"
   ]
  },
  {
   "cell_type": "code",
   "execution_count": null,
   "metadata": {},
   "outputs": [],
   "source": []
  },
  {
   "cell_type": "markdown",
   "metadata": {},
   "source": [
    "### trains and predicts with TabPFN model\n"
   ]
  },
  {
   "cell_type": "code",
   "execution_count": 15,
   "metadata": {},
   "outputs": [
    {
     "data": {
      "text/plain": [
       "'\\na TabPFN model to make predictions with uncertainty estimates.\\nWhat are \"uncertainty estimates\"?\\n-> The model does nto say the answer is this, but rather \"the answer is this, with this much confidence\". I mean, it says:\\n    Median (best guess): 1500 housing starts\\n    10th percentile (low): 1300 housing starts\\n    90th percentile (high): 1700 housing starts\\nSo, the model is saying \"I\\'m 80% sure the true value lies between 1300 and 1700 housing starts\", which helps to understand how confident the model is in its prediction.\\n\\nIn short, Wide range = uncertain, narrow range = confident.\\n\\n*** ignore_pretraining_limits=True removes internal data-size limits (helpful for >1 000 rows).\\n\\nWe can check with ingore_pretraining_limits=False as we don\\'t have big number of rows which also give us good result but may give us error if too many rows are there.\\n\\n'"
      ]
     },
     "execution_count": 15,
     "metadata": {},
     "output_type": "execute_result"
    }
   ],
   "source": [
    "# create the model\n",
    "tab = TabPFNRegressor(device=\"cpu\", ignore_pretraining_limits=True) # Use \"cpu\" if no GPU available (\"mps\" might not work with TabPFN )\n",
    "'''\n",
    "a TabPFN model to make predictions with uncertainty estimates.\n",
    "What are \"uncertainty estimates\"?\n",
    "-> The model does nto say the answer is this, but rather \"the answer is this, with this much confidence\". I mean, it says:\n",
    "    Median (best guess): 1500 housing starts\n",
    "    10th percentile (low): 1300 housing starts\n",
    "    90th percentile (high): 1700 housing starts\n",
    "So, the model is saying \"I'm 80% sure the true value lies between 1300 and 1700 housing starts\", which helps to understand how confident the model is in its prediction.\n",
    "\n",
    "In short, Wide range = uncertain, narrow range = confident.\n",
    "\n",
    "*** ignore_pretraining_limits=True removes internal data-size limits (helpful for >1 000 rows).\n",
    "\n",
    "We can check with ingore_pretraining_limits=False as we don't have big number of rows which also give us good result but may give us error if too many rows are there.\n",
    "\n",
    "'''"
   ]
  },
  {
   "cell_type": "code",
   "execution_count": 16,
   "metadata": {},
   "outputs": [
    {
     "data": {
      "text/plain": [
       "'\\nTrains the model using your training features (X_tr) and target (y_tr = weekly cases)\\n\\n.values --> converts pandas DataFrames to numpy arrays (what TabPFN expects)\\n\\nModel learns: \"When week=36 and run_idx=0.875, Value is usually around X\"\\n'"
      ]
     },
     "execution_count": 16,
     "metadata": {},
     "output_type": "execute_result"
    }
   ],
   "source": [
    "# Train the model\n",
    "tab.fit(X_tr.values, y_tr.values)\n",
    "'''\n",
    "Trains the model using your training features (X_tr) and target (y_tr = weekly cases)\n",
    "\n",
    ".values --> converts pandas DataFrames to numpy arrays (what TabPFN expects)\n",
    "\n",
    "Model learns: \"When week=36 and run_idx=0.875, Value is usually around X\"\n",
    "'''"
   ]
  },
  {
   "cell_type": "code",
   "execution_count": 17,
   "metadata": {},
   "outputs": [
    {
     "data": {
      "text/plain": [
       "'\\nPredicts future case values (median forecast)\\n\\noutput_type=\"median\" = gives the middle estimate (50th percentile)\\n'"
      ]
     },
     "execution_count": 17,
     "metadata": {},
     "output_type": "execute_result"
    }
   ],
   "source": [
    "# Make predictions\n",
    "y_tab = tab.predict(X_te.values, output_type=\"median\")\n",
    "'''\n",
    "Predicts future case values (median forecast)\n",
    "\n",
    "output_type=\"median\" = gives the middle estimate (50th percentile)\n",
    "'''"
   ]
  },
  {
   "cell_type": "code",
   "execution_count": 18,
   "metadata": {},
   "outputs": [
    {
     "data": {
      "text/plain": [
       "'\\nGives uncertainty bounds — Creates an 80% confidence interval (between 10% and 90%)\\n'"
      ]
     },
     "execution_count": 18,
     "metadata": {},
     "output_type": "execute_result"
    }
   ],
   "source": [
    "# Get uncertainty range\n",
    "q10, q90 = tab.predict(X_te.values, output_type=\"quantiles\", quantiles=[0.1, 0.9])\n",
    "'''\n",
    "Gives uncertainty bounds — Creates an 80% confidence interval (between 10% and 90%)\n",
    "'''"
   ]
  },
  {
   "cell_type": "markdown",
   "metadata": {},
   "source": [
    "#### Check with different metrics"
   ]
  },
  {
   "cell_type": "code",
   "execution_count": 19,
   "metadata": {},
   "outputs": [
    {
     "name": "stdout",
     "output_type": "stream",
     "text": [
      "=== TabPFN Model Performance ===\n",
      "MAE   : 478.68\n",
      "MSE   : 306650.98\n",
      "RMSE  : 553.76\n",
      "R²    : -1.673\n",
      "===============================\n"
     ]
    }
   ],
   "source": [
    "# Evaluate model performance\n",
    "mae  = mean_absolute_error(y_te, y_tab) # Mean Absolute Error: average absolute difference between predicted and actual values\n",
    "mse  = np.mean((y_te - y_tab)**2) # Mean Squared Error: average squared difference between predicted and actual values\n",
    "rmse = np.sqrt(mse) # Root Mean Squared Error: square root of MSE, gives error in original units\n",
    "r2   = r2_score(y_te, y_tab) # R-squared: how good the model fit is (R^2=1 means perfect && R^2 = 0 means poor).\n",
    "\n",
    "print(\"=== TabPFN Model Performance ===\")\n",
    "print(f\"MAE   : {mae:.2f}\")\n",
    "print(f\"MSE   : {mse:.2f}\")\n",
    "print(f\"RMSE  : {rmse:.2f}\")\n",
    "print(f\"R²    : {r2:.3f}\")\n",
    "print(\"===============================\")\n",
    "\n"
   ]
  },
  {
   "cell_type": "code",
   "execution_count": 20,
   "metadata": {},
   "outputs": [
    {
     "data": {
      "image/png": "[encoded data removed]",
      "text/plain": [
       "<Figure size 1000x500 with 1 Axes>"
      ]
     },
     "metadata": {},
     "output_type": "display_data"
    }
   ],
   "source": [
    "# Simple chart with train/test split and predictions\n",
    "plt.figure(figsize=(10,5))\n",
    "\n",
    "# History\n",
    "plt.plot(df.index, df[\"Value\"], label=\"History\", linewidth=1.5)\n",
    "\n",
    "# Train/test split line\n",
    "plt.axvline(test.index[0], color=\"gray\", linestyle=\"--\", alpha=0.5)\n",
    "\n",
    "# Actual test values\n",
    "plt.plot(y_te.index, y_te, \"o-\", label=\"Actual (Test)\", color=\"C3\")\n",
    "\n",
    "# TabPFN predictions\n",
    "plt.plot(y_te.index, y_tab, \"x--\", label=\"TabPFN Pred\", color=\"C1\")\n",
    "plt.fill_between(y_te.index, q10, q90, alpha=0.25, color=\"C1\", label=\"80% PI\")\n",
    "\n",
    "plt.title(\"Housing Starts — Forecast vs Actual\")\n",
    "plt.ylabel(\"Cases\")\n",
    "plt.xlabel(\"Date\")\n",
    "plt.legend()\n",
    "plt.grid(alpha=0.2)\n",
    "plt.tight_layout()\n",
    "plt.show()"
   ]
  },
  {
   "cell_type": "markdown",
   "metadata": {},
   "source": [
    "### Predicting the next 4 weeeks beyond our dataset"
   ]
  },
  {
   "cell_type": "code",
   "execution_count": null,
   "metadata": {},
   "outputs": [
    {
     "name": "stdout",
     "output_type": "stream",
     "text": [
      "=== 4-Week Forecast ===\n",
      "        Date  Predicted_Cases   Lower_80PI   Upper_80PI\n",
      "0 2024-10-13      1208.239990  -766.849976  3483.790039\n",
      "1 2024-10-20      1209.599976  -816.729980  3568.620117\n",
      "2 2024-10-27      1180.400024  -943.150024  3635.600098\n",
      "3 2024-11-03      1160.489990 -1048.020020  3699.850098\n"
     ]
    }
   ],
   "source": [
    "# === Forecast next 4 weeks beyond last observed date ===\n",
    "\n",
    "last_date = df.index[-1] # We set date as index before and to get the last date in the dataset\n",
    "n_future = 4  # predict 4 weeks ahead\n",
    "\n",
    "# future weekly dates based on the data's frequency\n",
    "future_dates = pd.date_range(start=last_date + pd.Timedelta(weeks=1),\n",
    "                             periods=n_future, freq='W')\n",
    "'''\n",
    "pd.date_range() --> Creates a sequence of dates like a calendar generator\n",
    "start=last_date + pd.Timedelta(weeks=1) --> Start one week after the last data point so, if \n",
    "last date = 2024-09-30 → start = 2024-10-07\n",
    "periods=n_future --> How many dates to generate (4 weeks in our case)\n",
    "freq='W' --> Frequency is weekly (every 7 days)\n",
    "\n",
    "Remember it: \n",
    "\n",
    "start + step, repeat, freq → date_range\n",
    "start → where to begin\n",
    "step → how far ahead to start (+1 week)\n",
    "repeat → how many points (periods=n_future)\n",
    "freq → how often ('W' for weekly, 'M' for monthly, 'D' for daily)\n",
    "'''\n",
    "\n",
    "# continue run_idx progression (normalized timeline)\n",
    "n_total = len(df) # total number of rows in original data\n",
    "future_run_idx = (np.arange(n_total, n_total + n_future) / (n_total + n_future)).tolist()\n",
    "'''\n",
    "future_run_idx --> extends the run_idx feature\n",
    "\n",
    "n_total = len(df) is the total number of rows in the original dataset. <eg: 100>\n",
    "np.arange(n_total, n_total + n_future) --> Creates numbers starting where data ended. <eg: [100, 101, 102, 103] for next 4 weeks>\n",
    "/ (n_total + n_future) --> Normalizes to 0-1 range\n",
    "\n",
    "example: [100/104, 101/104, 102/104, 103/104] = [0.96, 0.97, 0.98, 0.99]\n",
    "\n",
    "run_idx going from 0 -> ~0.96\n",
    "This continues it: ~0.96 -> 0.97 -> 0.98 -> 0.99\n",
    "\n",
    "Same idea - continuing the timeline!\n",
    "'''\n",
    "\n",
    "# compute week numbers for future dates\n",
    "future_weeks = future_dates.isocalendar().week.astype(int).tolist()\n",
    "'''\n",
    ".isocalendar() = get ISO calendar info (year, week, day)\n",
    ".week = grab just the week number\n",
    ".astype(int) = convert to integer (1, 2, 3... 52)\n",
    ".tolist() = convert to Python list\n",
    "\n",
    "example:\n",
    "Date: 2024-10-27 -> Week 43 (just an example)\n",
    "\n",
    "'''\n",
    "\n",
    "# build future feature frame (same structure as X_tr)\n",
    "future_df = pd.DataFrame({\n",
    "    \"week\": future_weeks,\n",
    "    \"run_idx\": future_run_idx\n",
    "}, index=future_dates)\n",
    "\n",
    "# predict next 4 weeks\n",
    "y_future = tab.predict(future_df.values, output_type=\"median\")\n",
    "\n",
    "# if quantiles available\n",
    "try:\n",
    "    q10_f, q90_f = tab.predict(future_df.values, output_type=\"quantiles\", quantiles=[0.1, 0.9])\n",
    "except Exception:\n",
    "    q10_f = q90_f = None\n",
    "\n",
    "# display\n",
    "forecast_df = pd.DataFrame({\n",
    "    \"Date\": future_dates,\n",
    "    \"Predicted_Cases\": np.round(y_future, 2),\n",
    "    \"Lower_80PI\": np.round(q10_f, 2) if q10_f is not None else None,\n",
    "    \"Upper_80PI\": np.round(q90_f, 2) if q90_f is not None else None\n",
    "})\n",
    "print(\"=== 4-Week Forecast ===\")\n",
    "print(forecast_df)\n"
   ]
  },
  {
   "cell_type": "code",
   "execution_count": 22,
   "metadata": {},
   "outputs": [
    {
     "data": {
      "text/plain": [
       "'Monday'"
      ]
     },
     "execution_count": 22,
     "metadata": {},
     "output_type": "execute_result"
    }
   ],
   "source": [
    "# What day of the week is the last date in the dataset?\n",
    "last_date.day_name()"
   ]
  },
  {
   "cell_type": "markdown",
   "metadata": {},
   "source": [
    "**Lower_80PI(10th Percentile)** <br>\n",
    "-ve value which is problem because cases can't be negative cases.\n",
    "\n",
    "**Upper_80PI(90th Percentile)**<br>\n",
    "gets wider nevry next week (117->727)\n",
    "\n",
    "**Good Point**<br>\n",
    "The Predicted_cases gradual increase from 16 to 27\n",
    "\n",
    "##### Concerns:\n",
    "\n",
    "- Huge uncertainty ranges - prediction could be anywhere from -20 to 700+\n",
    "- Negative lower bounds - physically impossible (bad sign)\n",
    "- Uncertainty explodes - Week 4 range is 750 units wide!\n"
   ]
  },
  {
   "cell_type": "markdown",
   "metadata": {},
   "source": [
    "### Autoregressive 4-week forecast (use lag features)"
   ]
  },
  {
   "cell_type": "code",
   "execution_count": 23,
   "metadata": {},
   "outputs": [
    {
     "name": "stdout",
     "output_type": "stream",
     "text": [
      "Supervised rows: 28 | Features: ['lag_1', 'lag_2', 'lag_3', 'lag_4', 'lag_5', 'lag_6', 'lag_7', 'lag_8', 'weekofyear']\n",
      "=== Autoregressive 4-week forecast ===\n",
      "      date  predicted_cases\n",
      "2024-10-07           108.13\n",
      "2024-10-14           128.39\n",
      "2024-10-21            71.90\n",
      "2024-10-28           103.60\n"
     ]
    }
   ],
   "source": [
    "# Autoregressive 4-week forecast using lag features (run in inserm kernel)\n",
    "import pandas as pd, numpy as np\n",
    "from tabpfn import TabPFNRegressor\n",
    "from pathlib import Path\n",
    "\n",
    "CSV = \"../epidemic_curve.csv\"\n",
    "\n",
    "# 1) Build weekly series and supervised data (lags + target)\n",
    "LAGS = 8\n",
    "HORIZON = 4\n",
    "raw = pd.read_csv(CSV, parse_dates=[\"date\"]).sort_values(\"date\").reset_index(drop=True)\n",
    "weekly = raw.set_index(\"date\")[\"cases\"].resample(\"W-MON\").sum().reset_index().rename(columns={\"cases\":\"value\"})\n",
    "\n",
    "# build lags\n",
    "ws = weekly.copy()\n",
    "for i in range(1, LAGS+1):\n",
    "    ws[f\"lag_{i}\"] = ws[\"value\"].shift(i)\n",
    "# optional extra features\n",
    "ws[\"weekofyear\"] = ws[\"date\"].dt.isocalendar().week.astype(int)\n",
    "# target: 4-week ahead\n",
    "ws[\"target_h4\"] = ws[\"value\"].shift(-HORIZON)\n",
    "supervised = ws.dropna().reset_index(drop=True)\n",
    "\n",
    "feature_cols = [f\"lag_{i}\" for i in range(1, LAGS+1)] + [\"weekofyear\"]\n",
    "X_all = supervised[feature_cols].to_numpy()\n",
    "y_all = supervised[\"target_h4\"].to_numpy()\n",
    "\n",
    "print(\"Supervised rows:\", len(supervised), \"| Features:\", feature_cols)\n",
    "\n",
    "# 2) Train final TabPFN on all supervised rows (use all data for best forecast)\n",
    "model = TabPFNRegressor(device=\"cpu\", ignore_pretraining_limits=True)  # use \"cpu\" for stability\n",
    "model.fit(X_all, y_all)\n",
    "\n",
    "\n",
    "# 3) Build the last raw feature vector (latest observed weeks -> lag_1..lag_8)\n",
    "last_idx = len(weekly) - 1\n",
    "if last_idx < LAGS:\n",
    "    raise ValueError(\"Not enough raw weekly values to construct LAGS. Need >= LAGS+1 weeks.\")\n",
    "\n",
    "# collect last LAGS observed raw values: lag_1 is 1 week before last observed, etc.\n",
    "lag_vals = [weekly.loc[last_idx - i, \"value\"] for i in range(1, LAGS+1)]\n",
    "\n",
    "# construct raw feature vector in same order as training\n",
    "x_raw = np.array(lag_vals + [int(weekly.loc[last_idx,\"date\"].isocalendar().week)], dtype=float).reshape(1,-1)\n",
    "\n",
    "# 4) Iteratively forecast next 4 weeks (autoregressive)\n",
    "n_future = 4\n",
    "future_preds = []\n",
    "x_cur_raw = x_raw.copy()\n",
    "for step in range(n_future):\n",
    "    y_pred = float(model.predict(x_cur_raw)[0])\n",
    "    y_pred = max(y_pred, 0.0)          # clamp negatives to 0\n",
    "    future_preds.append(y_pred)\n",
    "    # update raw lag window: drop oldest lag and append y_pred\n",
    "    raw_lags = list(x_cur_raw[0, :LAGS])\n",
    "    raw_lags = raw_lags[1:] + [y_pred]\n",
    "    # keep calendar feature as rolling forward week number (optional: update weekofyear)\n",
    "    next_week_num = int((weekly.loc[last_idx,\"date\"] + pd.Timedelta(weeks=step+1)).isocalendar().week)\n",
    "    x_cur_raw = np.array(raw_lags + [next_week_num], dtype=float).reshape(1,-1)\n",
    "\n",
    "# 5) Build forecast dataframe and show\n",
    "future_dates = pd.date_range(start=weekly[\"date\"].iloc[-1] + pd.Timedelta(weeks=1),\n",
    "                             periods=n_future, freq=\"W-MON\")\n",
    "forecast_df = pd.DataFrame({\"date\": future_dates, \"predicted_cases\": np.round(future_preds,2)})\n",
    "print(\"=== Autoregressive 4-week forecast ===\")\n",
    "print(forecast_df.to_string(index=False))\n"
   ]
  },
  {
   "cell_type": "markdown",
   "metadata": {},
   "source": [
    "Some Links:\n",
    "\n",
    "1. https://www.youtube.com/watch?v=8RbxKffv_BA"
   ]
  },
  {
   "cell_type": "markdown",
   "metadata": {},
   "source": []
  }
 ],
 "metadata": {
  "kernelspec": {
   "display_name": "inserm",
   "language": "python",
   "name": "python3"
  },
  "language_info": {
   "codemirror_mode": {
    "name": "ipython",
    "version": 3
   },
   "file_extension": ".py",
   "mimetype": "text/x-python",
   "name": "python",
   "nbconvert_exporter": "python",
   "pygments_lexer": "ipython3",
   "version": "3.11.14"
  }
 },
 "nbformat": 4,
 "nbformat_minor": 2
}
