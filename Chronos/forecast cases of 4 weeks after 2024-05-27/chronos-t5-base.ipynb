{
 "cells": [
  {
   "cell_type": "markdown",
   "metadata": {},
   "source": [
    "!pip install git+https://github.com/amazon-science/chronos-forecasting.git"
   ]
  },
  {
   "cell_type": "code",
   "execution_count": 141,
   "metadata": {},
   "outputs": [],
   "source": [
    "# Lib\n",
    "import matplotlib.pyplot as plt\n",
    "import numpy as np\n",
    "import pandas as pd\n",
    "import torch\n",
    "from chronos import ChronosPipeline"
   ]
  },
  {
   "cell_type": "code",
   "execution_count": 142,
   "metadata": {},
   "outputs": [
    {
     "data": {
      "text/html": [
       "<div>\n",
       "<style scoped>\n",
       "    .dataframe tbody tr th:only-of-type {\n",
       "        vertical-align: middle;\n",
       "    }\n",
       "\n",
       "    .dataframe tbody tr th {\n",
       "        vertical-align: top;\n",
       "    }\n",
       "\n",
       "    .dataframe thead th {\n",
       "        text-align: right;\n",
       "    }\n",
       "</style>\n",
       "<table border=\"1\" class=\"dataframe\">\n",
       "  <thead>\n",
       "    <tr style=\"text-align: right;\">\n",
       "      <th></th>\n",
       "      <th>date</th>\n",
       "      <th>cases</th>\n",
       "    </tr>\n",
       "  </thead>\n",
       "  <tbody>\n",
       "    <tr>\n",
       "      <th>0</th>\n",
       "      <td>2024-01-01</td>\n",
       "      <td>0</td>\n",
       "    </tr>\n",
       "    <tr>\n",
       "      <th>1</th>\n",
       "      <td>2024-01-08</td>\n",
       "      <td>0</td>\n",
       "    </tr>\n",
       "    <tr>\n",
       "      <th>2</th>\n",
       "      <td>2024-01-15</td>\n",
       "      <td>46</td>\n",
       "    </tr>\n",
       "    <tr>\n",
       "      <th>3</th>\n",
       "      <td>2024-01-22</td>\n",
       "      <td>40</td>\n",
       "    </tr>\n",
       "    <tr>\n",
       "      <th>4</th>\n",
       "      <td>2024-01-29</td>\n",
       "      <td>3</td>\n",
       "    </tr>\n",
       "  </tbody>\n",
       "</table>\n",
       "</div>"
      ],
      "text/plain": [
       "         date  cases\n",
       "0  2024-01-01      0\n",
       "1  2024-01-08      0\n",
       "2  2024-01-15     46\n",
       "3  2024-01-22     40\n",
       "4  2024-01-29      3"
      ]
     },
     "execution_count": 142,
     "metadata": {},
     "output_type": "execute_result"
    }
   ],
   "source": [
    "# Load the time series data\n",
    "df = pd.read_csv(\"../epidemic_curve.csv\")\n",
    "df.head()\n"
   ]
  },
  {
   "cell_type": "code",
   "execution_count": 143,
   "metadata": {},
   "outputs": [],
   "source": [
    "df[\"date\"] = pd.to_datetime(df[\"date\"])"
   ]
  },
  {
   "cell_type": "code",
   "execution_count": 144,
   "metadata": {},
   "outputs": [],
   "source": [
    "# give the row index for 2024-05-27\n",
    "target_date = \"2024-05-27\"\n",
    "split_idx = df[df[\"date\"] == target_date].index[0]\n"
   ]
  },
  {
   "cell_type": "markdown",
   "metadata": {},
   "source": [
    "#### Use data before 2024-05-27 date for context (i.e., training)"
   ]
  },
  {
   "cell_type": "code",
   "execution_count": 145,
   "metadata": {},
   "outputs": [],
   "source": [
    "# Prepare the data for Chronos\n",
    "'''\n",
    "Extract the numeric series (the cases column) and convert it to a PyTorch tensor. \n",
    "\n",
    "Chronos expects a 1D tensor (or a batch of 1D tensors) as input.\n",
    "'''\n",
    "train_data = df[\"cases\"].iloc[:split_idx + 1]  # include the week of 2024-05-27\n",
    "\n",
    "context=torch.tensor(train_data.values, dtype=torch.float32)"
   ]
  },
  {
   "cell_type": "code",
   "execution_count": 146,
   "metadata": {},
   "outputs": [
    {
     "data": {
      "text/plain": [
       "torch.Size([22])"
      ]
     },
     "execution_count": 146,
     "metadata": {},
     "output_type": "execute_result"
    }
   ],
   "source": [
    "context.shape # This creates context, a 1D tensor of length 40 (for 40 weeks)"
   ]
  },
  {
   "cell_type": "code",
   "execution_count": 147,
   "metadata": {},
   "outputs": [
    {
     "data": {
      "text/plain": [
       "'\\nWe can switch to chronos-t5-large or any other model just by changing the model name.\\nFor example:\\nPipeline = ChronosPipeline.from_pretrained(\"amazon/chronos-t5-large\", device_map=\"mps\")\\n                (or)\\nPipeline = ChronosPipeline.from_pretrained(\"amazon/chronos-t5-base\", device_map=\"mps\")\\n                (or)\\nPipeline = ChronosPipeline.from_pretrained(\"amazon/chronos-t5-small\", device_map=\"mps\")\\n                ...\\n\\n\\n'"
      ]
     },
     "execution_count": 147,
     "metadata": {},
     "output_type": "execute_result"
    }
   ],
   "source": [
    "# Load the pre-trained Chronos model\n",
    "'''\n",
    "Use ChronosPipeline.from_pretrained to load the Chronos-T5 model.\n",
    "\n",
    "The resulting pipeline object encapsulates the model and will be used for prediction.\n",
    "'''\n",
    "pipeline = ChronosPipeline.from_pretrained(\"amazon/chronos-t5-base\", device_map=\"mps\") # This will download the amazon/chronos-t5-small model and initialize a forecasting pipeline\n",
    "# Also i can use device_map=\"auto\" to use GPU if available or device_map=\"mps\" for my MacBook laptop\n",
    "\n",
    "'''\n",
    "We can switch to chronos-t5-large or any other model just by changing the model name.\n",
    "For example:\n",
    "Pipeline = ChronosPipeline.from_pretrained(\"amazon/chronos-t5-large\", device_map=\"mps\")\n",
    "                (or)\n",
    "Pipeline = ChronosPipeline.from_pretrained(\"amazon/chronos-t5-base\", device_map=\"mps\")\n",
    "                (or)\n",
    "Pipeline = ChronosPipeline.from_pretrained(\"amazon/chronos-t5-small\", device_map=\"mps\")\n",
    "                ...\n",
    "\n",
    "                \n",
    "'''\n"
   ]
  },
  {
   "cell_type": "markdown",
   "metadata": {},
   "source": [
    "#### Forecast the next 4 weeks"
   ]
  },
  {
   "cell_type": "code",
   "execution_count": 148,
   "metadata": {},
   "outputs": [],
   "source": [
    "# Forecast the next 4 weeks\n",
    "'''\n",
    "Call pipeline.predict with the context tensor and prediction_length=4 to forecast the next 4 time steps.\n",
    "'''\n",
    "\n",
    "prediction_length = 4 # We want to forecast the next 4 weeks\n",
    "forecast = pipeline.predict(context, prediction_length) # shape [num_series, num_samples, prediction_length]\n"
   ]
  },
  {
   "cell_type": "code",
   "execution_count": 149,
   "metadata": {},
   "outputs": [
    {
     "data": {
      "text/plain": [
       "torch.Size([1, 20, 4])"
      ]
     },
     "execution_count": 149,
     "metadata": {},
     "output_type": "execute_result"
    }
   ],
   "source": [
    "forecast.shape # This creates forecast, a 1D tensor of length 4 (for 4 predicted weeks)"
   ]
  },
  {
   "cell_type": "markdown",
   "metadata": {},
   "source": [
    "This runs the model to predict 4 future weekly values. Internally, Chronos generates many sample trajectories; as shown above, the output forecast will have shape `[num_series, num_samples, prediction_length]`. \n",
    "\n",
    "Here **num_series=1 (one time series)** and **prediction_length=4**. \n",
    "\n",
    "For example, if the default num_samples is 20, then forecast.shape would be (1, 20, 4)."
   ]
  },
  {
   "cell_type": "code",
   "execution_count": 150,
   "metadata": {},
   "outputs": [
    {
     "data": {
      "text/plain": [
       "tensor([[1868.0411, 1777.4432, 1712.7306, 1648.0178],\n",
       "        [1898.2405, 1924.1255, 1889.6121, 1967.2673],\n",
       "        [1937.0680, 1915.4972, 1906.8688, 1915.4972],\n",
       "        [1699.7881, 1630.7611, 1553.1058, 1440.9370],\n",
       "        [1868.0411, 1885.2979, 1915.4972, 1919.8113],\n",
       "        [1829.2134, 1760.1865, 1686.8456, 1583.3051],\n",
       "        [1893.9263, 1902.5546, 1868.0411, 1807.6426],\n",
       "        [1729.9873, 1522.9065, 1276.9982, 1151.8868],\n",
       "        [1803.3284, 1837.8419, 1829.2134, 1799.0142],\n",
       "        [1699.7881, 1566.0483, 1363.2817, 1121.6875],\n",
       "        [1699.7881, 1609.1902, 1419.3662, 1333.0825],\n",
       "        [1868.0411, 1855.0986, 1868.0411, 1868.0411],\n",
       "        [1738.6157, 1609.1902, 1393.4811, 1285.6265],\n",
       "        [1725.6731, 1622.1327, 1449.5654, 1216.5995],\n",
       "        [1803.3284, 1678.2170, 1518.5923, 1350.3392],\n",
       "        [1803.3284, 1768.8149, 1781.7574, 1669.5886],\n",
       "        [1863.7271, 1876.6696, 1799.0142, 1764.5007],\n",
       "        [1824.8993, 1717.0448, 1609.1902, 1574.6768],\n",
       "        [1928.4397, 1941.3822, 1863.7271, 1846.4703],\n",
       "        [1893.9263, 1902.5546, 1915.4972, 1893.9263]])"
      ]
     },
     "execution_count": 150,
     "metadata": {},
     "output_type": "execute_result"
    }
   ],
   "source": [
    "forecast[0] # (shape [num_samples, 4]) to see all sampled forecasts. The predicted values for the next 4 weeks"
   ]
  },
  {
   "cell_type": "code",
   "execution_count": 151,
   "metadata": {},
   "outputs": [
    {
     "name": "stdout",
     "output_type": "stream",
     "text": [
      "Low (10th percentile) forecast for next 4 weeks: [1699.78808594 1604.87600098 1390.46114502 1210.12822266]\n",
      "Median (50th percentile) forecast for next 4 weeks: [1827.05633545 1773.12908936 1747.24401855 1658.80322266]\n",
      "High (90th percentile) forecast for next 4 weeks: [1901.26040039 1916.36002197 1907.73161621 1915.92860107]\n"
     ]
    }
   ],
   "source": [
    "# Chronos produces a distribution of future values\n",
    "# Visualize the forecast\n",
    "\n",
    "#forecast_index = range(len(df), len(df) + prediction_length)\n",
    "low, median, high = np.quantile(forecast[0].numpy(), [0.1, 0.5, 0.9], axis=0)\n",
    "\n",
    "print(\"Low (10th percentile) forecast for next 4 weeks:\", low)\n",
    "print(\"Median (50th percentile) forecast for next 4 weeks:\", median)\n",
    "print(\"High (90th percentile) forecast for next 4 weeks:\", high)\n"
   ]
  },
  {
   "cell_type": "markdown",
   "metadata": {},
   "source": [
    "#### Create forecast dates starting from the week after 2024-05-27"
   ]
  },
  {
   "cell_type": "code",
   "execution_count": 152,
   "metadata": {},
   "outputs": [],
   "source": [
    "start_date = pd.to_datetime(\"2024-06-03\")  # week after May 27\n",
    "forecast_dates = pd.date_range(start=start_date, periods=4, freq=\"W-MON\")\n"
   ]
  },
  {
   "cell_type": "code",
   "execution_count": 153,
   "metadata": {},
   "outputs": [
    {
     "name": "stdout",
     "output_type": "stream",
     "text": [
      "\n",
      "Forecasted Cases (Next 4 Weeks after 2024-05-27):\n",
      "2024-06-03: 1827.06 cases\n",
      "2024-06-10: 1773.13 cases\n",
      "2024-06-17: 1747.24 cases\n",
      "2024-06-24: 1658.8 cases\n"
     ]
    }
   ],
   "source": [
    "# Print forecasted 4 weeks with dates\n",
    "print(\"\\nForecasted Cases (Next 4 Weeks after 2024-05-27):\")\n",
    "for d, c in zip(forecast_dates, median):\n",
    "    print(f\"{d.strftime('%Y-%m-%d')}: {round(c, 2)} cases\")"
   ]
  },
  {
   "cell_type": "markdown",
   "metadata": {},
   "source": [
    "####  Plot the historical data and the forecast"
   ]
  },
  {
   "cell_type": "code",
   "execution_count": 154,
   "metadata": {},
   "outputs": [
    {
     "data": {
      "image/png": "[encoded data removed]",
      "text/plain": [
       "<Figure size 1000x600 with 1 Axes>"
      ]
     },
     "metadata": {},
     "output_type": "display_data"
    }
   ],
   "source": [
    "# Plot the historical data and the forecast\n",
    "plt.figure(figsize=(10, 6))\n",
    "plt.plot(df[\"date\"], df[\"cases\"], color=\"royalblue\", label=\"Historical Data\")\n",
    "plt.plot(forecast_dates, median, color=\"tomato\", label=\"Median Forecast\")\n",
    "plt.fill_between(forecast_dates, low, high, color=\"tomato\", alpha=0.3, label=\"80% Prediction Interval\")\n",
    "\n",
    "# Add vertical line to indicate the start of the forecast\n",
    "plt.axvline(pd.to_datetime(\"2024-05-27\"), color=\"gray\", linestyle=\"--\", label=\"Forecast Start\")\n",
    "\n",
    "plt.xlabel(\"Date\")\n",
    "plt.xticks(rotation=90)\n",
    "\n",
    "plt.ylabel(\"Cases\")\n",
    "\n",
    "plt.grid()\n",
    "plt.legend()\n",
    "plt.tight_layout()\n",
    "plt.show()"
   ]
  },
  {
   "cell_type": "markdown",
   "metadata": {},
   "source": [
    "#### Evaluate Chronos with MAE, RMSE, $R^2$"
   ]
  },
  {
   "cell_type": "code",
   "execution_count": 155,
   "metadata": {},
   "outputs": [],
   "source": [
    "from sklearn.metrics import mean_absolute_error, mean_squared_error, r2_score\n",
    "\n",
    "# Step 1. We already have split_idx from before but again for clarity\n",
    "target_date = \"2024-05-27\"\n",
    "split_idx = df[df[\"date\"] == target_date].index[0]\n",
    "\n",
    "# Step 2. Create train/test split based on that index\n",
    "train_data = df[\"cases\"].iloc[:split_idx + 1]  # includes 2024-05-27\n",
    "test_data = df[\"cases\"].iloc[split_idx + 1 : split_idx + 1 + prediction_length]\n",
    "\n",
    "# Step3. Prepare context\n",
    "context_train = torch.tensor(train_data.values, dtype=torch.float32)\n",
    "\n",
    "# Step 4. Forecast\n",
    "forecast = pipeline.predict(context_train, prediction_length=prediction_length)\n",
    "median_forecast = np.quantile(forecast[0].numpy(), 0.5, axis=0)\n",
    "\n",
    "# Step 5. Evaluate\n",
    "y_true = test_data.values\n",
    "y_pred = median_forecast\n",
    "\n",
    "mae = mean_absolute_error(y_true, y_pred)\n",
    "mse = mean_squared_error(y_true, y_pred)\n",
    "rmse = mse ** 0.5\n",
    "r2 = r2_score(y_true, y_pred)"
   ]
  },
  {
   "cell_type": "code",
   "execution_count": 156,
   "metadata": {},
   "outputs": [
    {
     "name": "stdout",
     "output_type": "stream",
     "text": [
      "Evaluation on 4 Weeks After 2024-05-27\n",
      "MAE:  405.16\n",
      "RMSE: 501.69\n",
      "R²:   -1.19\n"
     ]
    }
   ],
   "source": [
    "# Step 6: Print results\n",
    "print(\"Evaluation on 4 Weeks After 2024-05-27\")\n",
    "print(f\"MAE:  {mae:.2f}\")\n",
    "print(f\"RMSE: {rmse:.2f}\")\n",
    "print(f\"R²:   {r2:.2f}\")"
   ]
  },
  {
   "cell_type": "code",
   "execution_count": null,
   "metadata": {},
   "outputs": [],
   "source": []
  },
  {
   "cell_type": "code",
   "execution_count": null,
   "metadata": {},
   "outputs": [],
   "source": []
  },
  {
   "cell_type": "code",
   "execution_count": null,
   "metadata": {},
   "outputs": [],
   "source": []
  },
  {
   "cell_type": "code",
   "execution_count": 157,
   "metadata": {},
   "outputs": [
    {
     "name": "stdout",
     "output_type": "stream",
     "text": [
      "GPU available: False\n"
     ]
    }
   ],
   "source": [
    "print(\"GPU available:\", torch.cuda.is_available())"
   ]
  },
  {
   "cell_type": "code",
   "execution_count": null,
   "metadata": {},
   "outputs": [],
   "source": []
  },
  {
   "cell_type": "code",
   "execution_count": null,
   "metadata": {},
   "outputs": [],
   "source": []
  },
  {
   "cell_type": "code",
   "execution_count": null,
   "metadata": {},
   "outputs": [],
   "source": []
  },
  {
   "cell_type": "code",
   "execution_count": null,
   "metadata": {},
   "outputs": [],
   "source": []
  },
  {
   "cell_type": "code",
   "execution_count": null,
   "metadata": {},
   "outputs": [],
   "source": []
  },
  {
   "cell_type": "code",
   "execution_count": null,
   "metadata": {},
   "outputs": [],
   "source": []
  },
  {
   "cell_type": "code",
   "execution_count": null,
   "metadata": {},
   "outputs": [],
   "source": []
  }
 ],
 "metadata": {
  "kernelspec": {
   "display_name": "inserm",
   "language": "python",
   "name": "python3"
  },
  "language_info": {
   "codemirror_mode": {
    "name": "ipython",
    "version": 3
   },
   "file_extension": ".py",
   "mimetype": "text/x-python",
   "name": "python",
   "nbconvert_exporter": "python",
   "pygments_lexer": "ipython3",
   "version": "3.11.14"
  }
 },
 "nbformat": 4,
 "nbformat_minor": 2
}
