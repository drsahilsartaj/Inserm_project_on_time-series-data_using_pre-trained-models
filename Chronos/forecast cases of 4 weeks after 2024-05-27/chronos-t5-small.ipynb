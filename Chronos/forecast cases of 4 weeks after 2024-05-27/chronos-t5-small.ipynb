{
 "cells": [
  {
   "cell_type": "markdown",
   "metadata": {},
   "source": [
    "!pip install git+https://github.com/amazon-science/chronos-forecasting.git"
   ]
  },
  {
   "cell_type": "code",
   "execution_count": 1,
   "metadata": {},
   "outputs": [],
   "source": [
    "# Lib\n",
    "import matplotlib.pyplot as plt\n",
    "import numpy as np\n",
    "import pandas as pd\n",
    "import torch\n",
    "from chronos import ChronosPipeline"
   ]
  },
  {
   "cell_type": "code",
   "execution_count": 2,
   "metadata": {},
   "outputs": [
    {
     "data": {
      "text/html": [
       "<div>\n",
       "<style scoped>\n",
       "    .dataframe tbody tr th:only-of-type {\n",
       "        vertical-align: middle;\n",
       "    }\n",
       "\n",
       "    .dataframe tbody tr th {\n",
       "        vertical-align: top;\n",
       "    }\n",
       "\n",
       "    .dataframe thead th {\n",
       "        text-align: right;\n",
       "    }\n",
       "</style>\n",
       "<table border=\"1\" class=\"dataframe\">\n",
       "  <thead>\n",
       "    <tr style=\"text-align: right;\">\n",
       "      <th></th>\n",
       "      <th>date</th>\n",
       "      <th>cases</th>\n",
       "    </tr>\n",
       "  </thead>\n",
       "  <tbody>\n",
       "    <tr>\n",
       "      <th>0</th>\n",
       "      <td>2024-01-01</td>\n",
       "      <td>0</td>\n",
       "    </tr>\n",
       "    <tr>\n",
       "      <th>1</th>\n",
       "      <td>2024-01-08</td>\n",
       "      <td>0</td>\n",
       "    </tr>\n",
       "    <tr>\n",
       "      <th>2</th>\n",
       "      <td>2024-01-15</td>\n",
       "      <td>46</td>\n",
       "    </tr>\n",
       "    <tr>\n",
       "      <th>3</th>\n",
       "      <td>2024-01-22</td>\n",
       "      <td>40</td>\n",
       "    </tr>\n",
       "    <tr>\n",
       "      <th>4</th>\n",
       "      <td>2024-01-29</td>\n",
       "      <td>3</td>\n",
       "    </tr>\n",
       "  </tbody>\n",
       "</table>\n",
       "</div>"
      ],
      "text/plain": [
       "         date  cases\n",
       "0  2024-01-01      0\n",
       "1  2024-01-08      0\n",
       "2  2024-01-15     46\n",
       "3  2024-01-22     40\n",
       "4  2024-01-29      3"
      ]
     },
     "execution_count": 2,
     "metadata": {},
     "output_type": "execute_result"
    }
   ],
   "source": [
    "# Load the time series data\n",
    "df = pd.read_csv(\"../epidemic_curve.csv\")\n",
    "df.head()\n"
   ]
  },
  {
   "cell_type": "code",
   "execution_count": 3,
   "metadata": {},
   "outputs": [],
   "source": [
    "df[\"date\"] = pd.to_datetime(df[\"date\"])"
   ]
  },
  {
   "cell_type": "code",
   "execution_count": 4,
   "metadata": {},
   "outputs": [],
   "source": [
    "# give the row index for 2024-05-27\n",
    "target_date = \"2024-05-27\"\n",
    "split_idx = df[df[\"date\"] == target_date].index[0]\n"
   ]
  },
  {
   "cell_type": "markdown",
   "metadata": {},
   "source": [
    "#### Use data before 2024-05-27 date for context (i.e., training)"
   ]
  },
  {
   "cell_type": "code",
   "execution_count": 5,
   "metadata": {},
   "outputs": [],
   "source": [
    "# Prepare the data for Chronos\n",
    "'''\n",
    "Extract the numeric series (the cases column) and convert it to a PyTorch tensor. \n",
    "\n",
    "Chronos expects a 1D tensor (or a batch of 1D tensors) as input.\n",
    "'''\n",
    "train_data = df[\"cases\"].iloc[:split_idx + 1]  # include the week of 2024-05-27\n",
    "\n",
    "context=torch.tensor(train_data.values, dtype=torch.float32)"
   ]
  },
  {
   "cell_type": "code",
   "execution_count": 6,
   "metadata": {},
   "outputs": [
    {
     "data": {
      "text/plain": [
       "torch.Size([22])"
      ]
     },
     "execution_count": 6,
     "metadata": {},
     "output_type": "execute_result"
    }
   ],
   "source": [
    "context.shape # This creates context, a 1D tensor of length 40 (for 40 weeks)"
   ]
  },
  {
   "cell_type": "code",
   "execution_count": 7,
   "metadata": {},
   "outputs": [
    {
     "data": {
      "text/plain": [
       "'\\nWe can switch to chronos-t5-large or any other model just by changing the model name.\\nFor example:\\nPipeline = ChronosPipeline.from_pretrained(\"amazon/chronos-t5-large\", device_map=\"mps\")\\n                (or)\\nPipeline = ChronosPipeline.from_pretrained(\"amazon/chronos-t5-base\", device_map=\"mps\")\\n                (or)\\nPipeline = ChronosPipeline.from_pretrained(\"amazon/chronos-t5-small\", device_map=\"mps\")\\n                ...\\n\\n\\n'"
      ]
     },
     "execution_count": 7,
     "metadata": {},
     "output_type": "execute_result"
    }
   ],
   "source": [
    "# Load the pre-trained Chronos model\n",
    "'''\n",
    "Use ChronosPipeline.from_pretrained to load the Chronos-T5 model.\n",
    "\n",
    "The resulting pipeline object encapsulates the model and will be used for prediction.\n",
    "'''\n",
    "pipeline = ChronosPipeline.from_pretrained(\"amazon/chronos-t5-small\", device_map=\"mps\") # This will download the amazon/chronos-t5-small model and initialize a forecasting pipeline\n",
    "# Also i can use device_map=\"auto\" to use GPU if available or device_map=\"mps\" for my MacBook laptop\n",
    "\n",
    "'''\n",
    "We can switch to chronos-t5-large or any other model just by changing the model name.\n",
    "For example:\n",
    "Pipeline = ChronosPipeline.from_pretrained(\"amazon/chronos-t5-large\", device_map=\"mps\")\n",
    "                (or)\n",
    "Pipeline = ChronosPipeline.from_pretrained(\"amazon/chronos-t5-base\", device_map=\"mps\")\n",
    "                (or)\n",
    "Pipeline = ChronosPipeline.from_pretrained(\"amazon/chronos-t5-small\", device_map=\"mps\")\n",
    "                ...\n",
    "\n",
    "                \n",
    "'''\n"
   ]
  },
  {
   "cell_type": "markdown",
   "metadata": {},
   "source": [
    "#### Forecast the next 4 weeks"
   ]
  },
  {
   "cell_type": "code",
   "execution_count": 8,
   "metadata": {},
   "outputs": [],
   "source": [
    "# Forecast the next 4 weeks\n",
    "'''\n",
    "Call pipeline.predict with the context tensor and prediction_length=4 to forecast the next 4 time steps.\n",
    "'''\n",
    "\n",
    "prediction_length = 4 # We want to forecast the next 4 weeks\n",
    "forecast = pipeline.predict(context, prediction_length) # shape [num_series, num_samples, prediction_length]\n"
   ]
  },
  {
   "cell_type": "code",
   "execution_count": 9,
   "metadata": {},
   "outputs": [
    {
     "data": {
      "text/plain": [
       "torch.Size([1, 20, 4])"
      ]
     },
     "execution_count": 9,
     "metadata": {},
     "output_type": "execute_result"
    }
   ],
   "source": [
    "forecast.shape # This creates forecast, a 1D tensor of length 4 (for 4 predicted weeks)"
   ]
  },
  {
   "cell_type": "markdown",
   "metadata": {},
   "source": [
    "This runs the model to predict 4 future weekly values. Internally, Chronos generates many sample trajectories; as shown above, the output forecast will have shape `[num_series, num_samples, prediction_length]`. \n",
    "\n",
    "Here **num_series=1 (one time series)** and **prediction_length=4**. \n",
    "\n",
    "For example, if the default num_samples is 20, then forecast.shape would be (1, 20, 4)."
   ]
  },
  {
   "cell_type": "code",
   "execution_count": 10,
   "metadata": {},
   "outputs": [
    {
     "data": {
      "text/plain": [
       "tensor([[1747.2440, 1527.2207, 1315.8258, 1009.5188],\n",
       "        [1786.0717, 1665.2745, 1600.5618, 1617.8185],\n",
       "        [1578.9910, 1264.0557,  884.4075,  444.3608],\n",
       "        [1639.3894, 1294.2549,  858.5224,  556.5296],\n",
       "        [1734.3015, 1488.3931, 1259.7415, 1069.9174],\n",
       "        [1600.5618, 1186.4003,  698.8976,  379.6481],\n",
       "        [1639.3894, 1251.1130,  871.4649,  582.4147],\n",
       "        [1656.6461, 1255.4272,  703.2118,  211.3950],\n",
       "        [1643.7036, 1246.7990,  845.5798,  422.7899],\n",
       "        [1721.3590, 1514.2781, 1251.1130,  983.6337],\n",
       "        [1596.2477, 1095.8024,  582.4147,  323.5637],\n",
       "        [1578.9910, 1177.7719,  707.5260,  414.1615],\n",
       "        [1682.5312, 1311.5116,  845.5798,  414.1615],\n",
       "        [1626.4469, 1147.5726,  733.4111,  340.8204],\n",
       "        [1764.5007, 1509.9640, 1169.1436,  776.5529],\n",
       "        [1773.1292, 1509.9640, 1216.5995,  776.5529],\n",
       "        [1747.2440, 1604.8760, 1527.2207, 1479.7646],\n",
       "        [1635.0752, 1341.7108, 1082.8599,  759.2961],\n",
       "        [1660.9603, 1341.7108, 1022.4613,  716.1544],\n",
       "        [1613.5044, 1294.2549,  819.6947,  509.0736]])"
      ]
     },
     "execution_count": 10,
     "metadata": {},
     "output_type": "execute_result"
    }
   ],
   "source": [
    "forecast[0] # (shape [num_samples, 4]) to see all sampled forecasts. The predicted values for the next 4 weeks"
   ]
  },
  {
   "cell_type": "code",
   "execution_count": 11,
   "metadata": {},
   "outputs": [
    {
     "name": "stdout",
     "output_type": "stream",
     "text": [
      "Low (10th percentile) forecast for next 4 weeks: [1594.52200928 1174.75192871  702.7803772   339.09476318]\n",
      "Median (50th percentile) forecast for next 4 weeks: [1650.17486572 1302.88323975  877.93618774  569.47213745]\n",
      "High (90th percentile) forecast for next 4 weeks: [1765.36357422 1534.98623047 1336.96529541 1110.9020874 ]\n"
     ]
    }
   ],
   "source": [
    "# Chronos produces a distribution of future values\n",
    "# Visualize the forecast\n",
    "\n",
    "#forecast_index = range(len(df), len(df) + prediction_length)\n",
    "low, median, high = np.quantile(forecast[0].numpy(), [0.1, 0.5, 0.9], axis=0)\n",
    "\n",
    "print(\"Low (10th percentile) forecast for next 4 weeks:\", low)\n",
    "print(\"Median (50th percentile) forecast for next 4 weeks:\", median)\n",
    "print(\"High (90th percentile) forecast for next 4 weeks:\", high)\n"
   ]
  },
  {
   "cell_type": "markdown",
   "metadata": {},
   "source": [
    "#### Create forecast dates starting from the week after 2024-05-27"
   ]
  },
  {
   "cell_type": "code",
   "execution_count": 12,
   "metadata": {},
   "outputs": [],
   "source": [
    "start_date = pd.to_datetime(\"2024-06-03\")  # week after May 27\n",
    "forecast_dates = pd.date_range(start=start_date, periods=4, freq=\"W-MON\")\n"
   ]
  },
  {
   "cell_type": "code",
   "execution_count": 13,
   "metadata": {},
   "outputs": [
    {
     "name": "stdout",
     "output_type": "stream",
     "text": [
      "\n",
      "Forecasted Cases (Next 4 Weeks after 2024-05-27):\n",
      "2024-06-03: 1650.17 cases\n",
      "2024-06-10: 1302.88 cases\n",
      "2024-06-17: 877.94 cases\n",
      "2024-06-24: 569.47 cases\n"
     ]
    }
   ],
   "source": [
    "# Print forecasted 4 weeks with dates\n",
    "print(\"\\nForecasted Cases (Next 4 Weeks after 2024-05-27):\")\n",
    "for d, c in zip(forecast_dates, median):\n",
    "    print(f\"{d.strftime('%Y-%m-%d')}: {round(c, 2)} cases\")"
   ]
  },
  {
   "cell_type": "markdown",
   "metadata": {},
   "source": [
    "####  Plot the historical data and the forecast"
   ]
  },
  {
   "cell_type": "code",
   "execution_count": 14,
   "metadata": {},
   "outputs": [
    {
     "data": {
      "image/png": "[encoded data removed]",
      "text/plain": [
       "<Figure size 1000x600 with 1 Axes>"
      ]
     },
     "metadata": {},
     "output_type": "display_data"
    }
   ],
   "source": [
    "# Plot the historical data and the forecast\n",
    "plt.figure(figsize=(10, 6))\n",
    "plt.plot(df[\"date\"], df[\"cases\"], color=\"royalblue\", label=\"Historical Data\")\n",
    "plt.plot(forecast_dates, median, color=\"tomato\", label=\"Median Forecast\")\n",
    "plt.fill_between(forecast_dates, low, high, color=\"tomato\", alpha=0.3, label=\"80% Prediction Interval\")\n",
    "\n",
    "# Add vertical line to indicate the start of the forecast\n",
    "plt.axvline(pd.to_datetime(\"2024-05-27\"), color=\"gray\", linestyle=\"--\", label=\"Forecast Start\")\n",
    "\n",
    "plt.xlabel(\"Date\")\n",
    "plt.xticks(rotation=90)\n",
    "\n",
    "plt.ylabel(\"Cases\")\n",
    "\n",
    "plt.grid()\n",
    "plt.legend()\n",
    "plt.tight_layout()\n",
    "plt.show()"
   ]
  },
  {
   "cell_type": "markdown",
   "metadata": {},
   "source": [
    "#### Evaluate Chronos with MAE, RMSE, $R^2$"
   ]
  },
  {
   "cell_type": "code",
   "execution_count": 15,
   "metadata": {},
   "outputs": [],
   "source": [
    "from sklearn.metrics import mean_absolute_error, mean_squared_error, r2_score\n",
    "\n",
    "# Step 1. We already have split_idx from before but again for clarity\n",
    "target_date = \"2024-05-27\"\n",
    "split_idx = df[df[\"date\"] == target_date].index[0]\n",
    "\n",
    "# Step 2. Create train/test split based on that index\n",
    "train_data = df[\"cases\"].iloc[:split_idx + 1]  # includes 2024-05-27\n",
    "test_data = df[\"cases\"].iloc[split_idx + 1 : split_idx + 1 + prediction_length]\n",
    "\n",
    "# Step3. Prepare context\n",
    "context_train = torch.tensor(train_data.values, dtype=torch.float32)\n",
    "\n",
    "# Step 4. Forecast\n",
    "forecast = pipeline.predict(context_train, prediction_length=prediction_length)\n",
    "median_forecast = np.quantile(forecast[0].numpy(), 0.5, axis=0)\n",
    "\n",
    "# Step 5. Evaluate\n",
    "y_true = test_data.values\n",
    "y_pred = median_forecast\n",
    "\n",
    "mae = mean_absolute_error(y_true, y_pred)\n",
    "mse = mean_squared_error(y_true, y_pred)\n",
    "rmse = mse ** 0.5\n",
    "r2 = r2_score(y_true, y_pred)"
   ]
  },
  {
   "cell_type": "code",
   "execution_count": 16,
   "metadata": {},
   "outputs": [
    {
     "name": "stdout",
     "output_type": "stream",
     "text": [
      "Evaluation on 4 Weeks After 2024-05-27\n",
      "MAE:  218.78\n",
      "RMSE: 231.07\n",
      "R²:   0.53\n"
     ]
    }
   ],
   "source": [
    "# Step 6: Print results\n",
    "print(\"Evaluation on 4 Weeks After 2024-05-27\")\n",
    "print(f\"MAE:  {mae:.2f}\")\n",
    "print(f\"RMSE: {rmse:.2f}\")\n",
    "print(f\"R²:   {r2:.2f}\")"
   ]
  },
  {
   "cell_type": "code",
   "execution_count": null,
   "metadata": {},
   "outputs": [],
   "source": []
  },
  {
   "cell_type": "code",
   "execution_count": null,
   "metadata": {},
   "outputs": [],
   "source": []
  },
  {
   "cell_type": "code",
   "execution_count": null,
   "metadata": {},
   "outputs": [],
   "source": []
  },
  {
   "cell_type": "code",
   "execution_count": 17,
   "metadata": {},
   "outputs": [
    {
     "name": "stdout",
     "output_type": "stream",
     "text": [
      "GPU available: False\n"
     ]
    }
   ],
   "source": [
    "print(\"GPU available:\", torch.cuda.is_available())"
   ]
  },
  {
   "cell_type": "code",
   "execution_count": null,
   "metadata": {},
   "outputs": [],
   "source": []
  },
  {
   "cell_type": "code",
   "execution_count": null,
   "metadata": {},
   "outputs": [],
   "source": []
  },
  {
   "cell_type": "code",
   "execution_count": null,
   "metadata": {},
   "outputs": [],
   "source": []
  },
  {
   "cell_type": "code",
   "execution_count": null,
   "metadata": {},
   "outputs": [],
   "source": []
  },
  {
   "cell_type": "code",
   "execution_count": null,
   "metadata": {},
   "outputs": [],
   "source": []
  },
  {
   "cell_type": "code",
   "execution_count": null,
   "metadata": {},
   "outputs": [],
   "source": []
  },
  {
   "cell_type": "code",
   "execution_count": null,
   "metadata": {},
   "outputs": [],
   "source": []
  }
 ],
 "metadata": {
  "kernelspec": {
   "display_name": "inserm",
   "language": "python",
   "name": "python3"
  },
  "language_info": {
   "codemirror_mode": {
    "name": "ipython",
    "version": 3
   },
   "file_extension": ".py",
   "mimetype": "text/x-python",
   "name": "python",
   "nbconvert_exporter": "python",
   "pygments_lexer": "ipython3",
   "version": "3.11.14"
  }
 },
 "nbformat": 4,
 "nbformat_minor": 2
}
